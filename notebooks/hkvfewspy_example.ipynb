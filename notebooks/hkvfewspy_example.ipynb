{
 "cells": [
  {
   "cell_type": "markdown",
   "metadata": {},
   "source": [
    "### Python package voor een FewsPI service"
   ]
  },
  {
   "cell_type": "markdown",
   "metadata": {},
   "source": [
    "Voorbeeld notebook om vanuit Python te praten met een openbare of lokale FewsPi service.\n",
    "\n",
    "Allereerst, importeer de module als volgt:"
   ]
  },
  {
   "cell_type": "code",
   "execution_count": 7,
   "metadata": {
    "collapsed": true
   },
   "outputs": [],
   "source": [
    "import sys\n",
    "sys.path.append(\"..\") \n",
    "from hkvfewspy.io.fewspi import pi"
   ]
  },
  {
   "cell_type": "markdown",
   "metadata": {},
   "source": [
    "version 0.3.0\n",
    "\n",
    "De volgende functies zijn beschikbaar via de module\n",
    "\n",
    "- setClient\n",
    "- getFilters\n",
    "- getParameters\n",
    "- getTimeSeries\n",
    "- getTimeSeriesForFilter2 ! this is the 'v0.2.2 getTimeSeries'\n",
    "- getTimeZoneID\n",
    "- getAvailableTimeZones"
   ]
  },
  {
   "cell_type": "markdown",
   "metadata": {},
   "source": [
    "Om een pi service uit te lezen moet deze eerst als client gezet worden. Dit kan met de functie `setClient`. Een wsdl service URL moet ingevuld worden en dat is bijvoorbeeld `http://localhost:8081/FewsPiService/fewspiservice?wsdl` of `http://localhost:8101/FewsPiService?wsdl`"
   ]
  },
  {
   "cell_type": "code",
   "execution_count": 8,
   "metadata": {
    "collapsed": true
   },
   "outputs": [],
   "source": [
    "pi.setClient(wsdl = 'http://localhost:8081/FewsPiService/fewspiservice?wsdl')"
   ]
  },
  {
   "cell_type": "code",
   "execution_count": 9,
   "metadata": {
    "collapsed": true
   },
   "outputs": [],
   "source": [
    "from datetime import datetime\n",
    "startTime = datetime(2017,12,29)\n",
    "endTime =  datetime(2018,1,1)"
   ]
  },
  {
   "cell_type": "code",
   "execution_count": 10,
   "metadata": {},
   "outputs": [],
   "source": [
    "params = dict(\n",
    "    filterIds=['boezem'],\n",
    "    moduleInstanceIds=['Boezemwaterstanden2'],\n",
    "    locationIds=['62201_boezem'],\n",
    "    parameterIds=['H.meting.10min'],\n",
    "    startTime=startTime,\n",
    "    endTime=endTime,\n",
    "    clientTimeZone = 'Etc/GMT+2',\n",
    "    showStatistics='true',\n",
    "    convertDatum='false',\n",
    "    forecastSearchCount =0,\n",
    "    importFromExternalDataSource='false',\n",
    "    omitMissing ='false',\n",
    "    onlyHeaders ='false',\n",
    "    onlyManualEdits ='false',\n",
    "    showEnsembleMemberIds ='false',\n",
    "    showThresholds ='false',\n",
    "    useDisplayUnits ='false'\n",
    ")"
   ]
  },
  {
   "cell_type": "code",
   "execution_count": 11,
   "metadata": {},
   "outputs": [
    {
     "name": "stdout",
     "output_type": "stream",
     "text": [
      "warning: 'header' has no attribute 'qualifierId'\n",
      "warning: 'header' has no attribute 'moduleInstanceId'\n",
      "-|-|H.meting.10min|62201_boezem|m/nap\n"
     ]
    },
    {
     "data": {
      "text/html": [
       "<div>\n",
       "<style>\n",
       "    .dataframe thead tr:only-child th {\n",
       "        text-align: right;\n",
       "    }\n",
       "\n",
       "    .dataframe thead th {\n",
       "        text-align: left;\n",
       "    }\n",
       "\n",
       "    .dataframe tbody tr th {\n",
       "        vertical-align: top;\n",
       "    }\n",
       "</style>\n",
       "<table border=\"1\" class=\"dataframe\">\n",
       "  <thead>\n",
       "    <tr style=\"text-align: right;\">\n",
       "      <th></th>\n",
       "      <th></th>\n",
       "      <th></th>\n",
       "      <th></th>\n",
       "      <th></th>\n",
       "      <th></th>\n",
       "      <th></th>\n",
       "      <th>flag</th>\n",
       "      <th>value</th>\n",
       "    </tr>\n",
       "    <tr>\n",
       "      <th>date</th>\n",
       "      <th>moduleId</th>\n",
       "      <th>qualifierId</th>\n",
       "      <th>parameterId</th>\n",
       "      <th>units</th>\n",
       "      <th>locationId</th>\n",
       "      <th>stationName</th>\n",
       "      <th></th>\n",
       "      <th></th>\n",
       "    </tr>\n",
       "  </thead>\n",
       "  <tbody>\n",
       "    <tr>\n",
       "      <th>2017-12-28 23:00:00-02:00</th>\n",
       "      <th>-</th>\n",
       "      <th>-</th>\n",
       "      <th>H.meting.10min</th>\n",
       "      <th>m/nap</th>\n",
       "      <th>62201_boezem</th>\n",
       "      <th>Debietmeting Vinkeveen, Boezem</th>\n",
       "      <td>8.0</td>\n",
       "      <td>-999.0</td>\n",
       "    </tr>\n",
       "    <tr>\n",
       "      <th>2017-12-28 23:10:00-02:00</th>\n",
       "      <th>-</th>\n",
       "      <th>-</th>\n",
       "      <th>H.meting.10min</th>\n",
       "      <th>m/nap</th>\n",
       "      <th>62201_boezem</th>\n",
       "      <th>Debietmeting Vinkeveen, Boezem</th>\n",
       "      <td>8.0</td>\n",
       "      <td>-999.0</td>\n",
       "    </tr>\n",
       "    <tr>\n",
       "      <th>2017-12-28 23:20:00-02:00</th>\n",
       "      <th>-</th>\n",
       "      <th>-</th>\n",
       "      <th>H.meting.10min</th>\n",
       "      <th>m/nap</th>\n",
       "      <th>62201_boezem</th>\n",
       "      <th>Debietmeting Vinkeveen, Boezem</th>\n",
       "      <td>8.0</td>\n",
       "      <td>-999.0</td>\n",
       "    </tr>\n",
       "    <tr>\n",
       "      <th>2017-12-28 23:30:00-02:00</th>\n",
       "      <th>-</th>\n",
       "      <th>-</th>\n",
       "      <th>H.meting.10min</th>\n",
       "      <th>m/nap</th>\n",
       "      <th>62201_boezem</th>\n",
       "      <th>Debietmeting Vinkeveen, Boezem</th>\n",
       "      <td>8.0</td>\n",
       "      <td>-999.0</td>\n",
       "    </tr>\n",
       "    <tr>\n",
       "      <th>2017-12-28 23:40:00-02:00</th>\n",
       "      <th>-</th>\n",
       "      <th>-</th>\n",
       "      <th>H.meting.10min</th>\n",
       "      <th>m/nap</th>\n",
       "      <th>62201_boezem</th>\n",
       "      <th>Debietmeting Vinkeveen, Boezem</th>\n",
       "      <td>8.0</td>\n",
       "      <td>-999.0</td>\n",
       "    </tr>\n",
       "  </tbody>\n",
       "</table>\n",
       "</div>"
      ],
      "text/plain": [
       "                                                                                                                 flag  \\\n",
       "date                      moduleId qualifierId parameterId    units locationId   stationName                            \n",
       "2017-12-28 23:00:00-02:00 -        -           H.meting.10min m/nap 62201_boezem Debietmeting Vinkeveen, Boezem   8.0   \n",
       "2017-12-28 23:10:00-02:00 -        -           H.meting.10min m/nap 62201_boezem Debietmeting Vinkeveen, Boezem   8.0   \n",
       "2017-12-28 23:20:00-02:00 -        -           H.meting.10min m/nap 62201_boezem Debietmeting Vinkeveen, Boezem   8.0   \n",
       "2017-12-28 23:30:00-02:00 -        -           H.meting.10min m/nap 62201_boezem Debietmeting Vinkeveen, Boezem   8.0   \n",
       "2017-12-28 23:40:00-02:00 -        -           H.meting.10min m/nap 62201_boezem Debietmeting Vinkeveen, Boezem   8.0   \n",
       "\n",
       "                                                                                                                 value  \n",
       "date                      moduleId qualifierId parameterId    units locationId   stationName                            \n",
       "2017-12-28 23:00:00-02:00 -        -           H.meting.10min m/nap 62201_boezem Debietmeting Vinkeveen, Boezem -999.0  \n",
       "2017-12-28 23:10:00-02:00 -        -           H.meting.10min m/nap 62201_boezem Debietmeting Vinkeveen, Boezem -999.0  \n",
       "2017-12-28 23:20:00-02:00 -        -           H.meting.10min m/nap 62201_boezem Debietmeting Vinkeveen, Boezem -999.0  \n",
       "2017-12-28 23:30:00-02:00 -        -           H.meting.10min m/nap 62201_boezem Debietmeting Vinkeveen, Boezem -999.0  \n",
       "2017-12-28 23:40:00-02:00 -        -           H.meting.10min m/nap 62201_boezem Debietmeting Vinkeveen, Boezem -999.0  "
      ]
     },
     "execution_count": 11,
     "metadata": {},
     "output_type": "execute_result"
    }
   ],
   "source": [
    "df, entry = pi.getTimeSeries(params, setFormat='df')\n",
    "print (entry)\n",
    "df.head()"
   ]
  },
  {
   "cell_type": "code",
   "execution_count": 12,
   "metadata": {},
   "outputs": [
    {
     "data": {
      "text/plain": [
       "{'Alle Hybi': {'description': '', 'id': 'Alle Hybi', 'name': 'Alle monsters'},\n",
       " 'Alle fychem': {'description': '',\n",
       "  'id': 'Alle fychem',\n",
       "  'name': 'Alle monsters'},\n",
       " 'Amsterdam_bbb': {'description': '',\n",
       "  'id': 'Amsterdam_bbb',\n",
       "  'name': 'berg bezink bassins'},\n",
       " 'Amsterdam_overstorten': {'description': '',\n",
       "  'id': 'Amsterdam_overstorten',\n",
       "  'name': 'overstorten'},\n",
       " 'Amsterdam_rioolgemalen': {'description': '',\n",
       "  'id': 'Amsterdam_rioolgemalen',\n",
       "  'name': 'rioolgemalen'},\n",
       " 'Blaricum_bbb': {'description': '',\n",
       "  'id': 'Blaricum_bbb',\n",
       "  'name': 'berg bezink bassins'},\n",
       " 'Blaricum_rioolgemalen': {'description': '',\n",
       "  'id': 'Blaricum_rioolgemalen',\n",
       "  'name': 'rioolgemalen'},\n",
       " 'Boezemgebieden': {'description': '',\n",
       "  'id': 'Boezemgebieden',\n",
       "  'name': 'Boezemgebieden'},\n",
       " 'Datapunt': {'description': '', 'id': 'Datapunt', 'name': 'Datapunt'},\n",
       " 'Drinkwater_Leiduin': {'description': '',\n",
       "  'id': 'Drinkwater_Leiduin',\n",
       "  'name': 'Leiduin'},\n",
       " 'Drinkwater_Overig': {'description': '',\n",
       "  'id': 'Drinkwater_Overig',\n",
       "  'name': 'Overig'},\n",
       " 'Evaluatie_a': {'description': '',\n",
       "  'id': 'Evaluatie_a',\n",
       "  'name': 'tbv evalueren maatregelen'},\n",
       " 'GWNET_Actief_A': {'description': '',\n",
       "  'id': 'GWNET_Actief_A',\n",
       "  'name': 'Freatisch'},\n",
       " 'GWNET_Actief_B': {'description': '',\n",
       "  'id': 'GWNET_Actief_B',\n",
       "  'name': 'WVP I'},\n",
       " 'GWNET_Actief_C': {'description': '',\n",
       "  'id': 'GWNET_Actief_C',\n",
       "  'name': 'WVP II'},\n",
       " 'GWNET_Actief_D': {'description': '',\n",
       "  'id': 'GWNET_Actief_D',\n",
       "  'name': 'WVP III'},\n",
       " 'GWNET_Actief_E': {'description': '',\n",
       "  'id': 'GWNET_Actief_E',\n",
       "  'name': 'WVP IV'},\n",
       " 'GWNET_Actief_F': {'description': '',\n",
       "  'id': 'GWNET_Actief_F',\n",
       "  'name': 'WVP V'},\n",
       " 'GWNET_Actief_G': {'description': '',\n",
       "  'id': 'GWNET_Actief_G',\n",
       "  'name': 'Oppervlakte water'},\n",
       " 'GWNET_Actief_onb': {'description': '',\n",
       "  'id': 'GWNET_Actief_onb',\n",
       "  'name': 'Onbekend'},\n",
       " 'GWNET_Niet_Actief_A': {'description': '',\n",
       "  'id': 'GWNET_Niet_Actief_A',\n",
       "  'name': 'Freatisch'},\n",
       " 'GWNET_Niet_Actief_B': {'description': '',\n",
       "  'id': 'GWNET_Niet_Actief_B',\n",
       "  'name': 'WVP I'},\n",
       " 'GWNET_Niet_Actief_C': {'description': '',\n",
       "  'id': 'GWNET_Niet_Actief_C',\n",
       "  'name': 'WVP II'},\n",
       " 'GWNET_Niet_Actief_D': {'description': '',\n",
       "  'id': 'GWNET_Niet_Actief_D',\n",
       "  'name': 'WVP III'},\n",
       " 'GWNET_Niet_Actief_E': {'description': '',\n",
       "  'id': 'GWNET_Niet_Actief_E',\n",
       "  'name': 'WVP IV'},\n",
       " 'GWNET_Niet_Actief_F': {'description': '',\n",
       "  'id': 'GWNET_Niet_Actief_F',\n",
       "  'name': 'WVP V'},\n",
       " 'GWNET_Niet_Actief_G': {'description': '',\n",
       "  'id': 'GWNET_Niet_Actief_G',\n",
       "  'name': 'Oppervlakte water'},\n",
       " 'GWNET_Niet_Actief_onb': {'description': '',\n",
       "  'id': 'GWNET_Niet_Actief_onb',\n",
       "  'name': 'Onbekend'},\n",
       " 'Geonis': {'description': '', 'id': 'Geonis', 'name': 'Geonis'},\n",
       " 'Internet_parameters': {'description': '',\n",
       "  'id': 'Internet_parameters',\n",
       "  'name': 'Internet parameters'},\n",
       " 'KRWlocaties': {'description': '',\n",
       "  'id': 'KRWlocaties',\n",
       "  'name': 'Locaties in KRW waterlichamen'},\n",
       " 'KRWlocnorm EU voorstel prioritair 2012 - zoet': {'description': '',\n",
       "  'id': 'KRWlocnorm EU voorstel prioritair 2012 - zoet',\n",
       "  'name': 'EU voorstel prioritair 2012 - zoet'},\n",
       " 'KRWlocnorm KRW fysisch-chemisch 2012': {'description': '',\n",
       "  'id': 'KRWlocnorm KRW fysisch-chemisch 2012',\n",
       "  'name': 'KRW fysisch-chemisch 2012'},\n",
       " 'KRWlocnorm Nat_Kader overig rel_ stoffen - zoet': {'description': '',\n",
       "  'id': 'KRWlocnorm Nat.Kader overig rel. stoffen - zoet',\n",
       "  'name': 'Nat.Kader overig rel. stoffen - zoet'},\n",
       " 'Kwaliteit_Boezem': {'description': '',\n",
       "  'id': 'Kwaliteit_Boezem',\n",
       "  'name': 'Boezem'},\n",
       " 'Kwaliteit_Evaluatie': {'description': '',\n",
       "  'id': 'Kwaliteit_Evaluatie',\n",
       "  'name': 'Evaluatie'},\n",
       " 'Kwaliteit_KRW': {'description': '', 'id': 'Kwaliteit_KRW', 'name': 'KRW'},\n",
       " 'Kwaliteit_Stedelijk': {'description': '',\n",
       "  'id': 'Kwaliteit_Stedelijk',\n",
       "  'name': 'Stedelijk'},\n",
       " 'Kwaliteit_gemalen': {'description': '',\n",
       "  'id': 'Kwaliteit_gemalen',\n",
       "  'name': 'Gemalen'},\n",
       " 'Kwaliteit_hoofdwatergangen': {'description': '',\n",
       "  'id': 'Kwaliteit_hoofdwatergangen',\n",
       "  'name': 'Hoofdwatergangen'},\n",
       " 'Kwaliteit_inlaten': {'description': '',\n",
       "  'id': 'Kwaliteit_inlaten',\n",
       "  'name': 'Inlaten'},\n",
       " 'Kwaliteit_plassen': {'description': '',\n",
       "  'id': 'Kwaliteit_plassen',\n",
       "  'name': 'Plassen'},\n",
       " 'Kwaliteit_plassen_diepte': {'description': '',\n",
       "  'id': 'Kwaliteit_plassen_diepte',\n",
       "  'name': 'Plassen op diepte'},\n",
       " 'Kwaliteit_waterakkoord': {'description': '',\n",
       "  'id': 'Kwaliteit_waterakkoord',\n",
       "  'name': 'Waterakkoord'},\n",
       " 'Kwaliteit_watergebiedsplannen': {'description': '',\n",
       "  'id': 'Kwaliteit_watergebiedsplannen',\n",
       "  'name': 'Watergebiedsplannen'},\n",
       " 'Kwaliteit_zwemwater': {'description': '',\n",
       "  'id': 'Kwaliteit_zwemwater',\n",
       "  'name': 'Zwemwater'},\n",
       " 'PIMS': {'description': '', 'id': 'PIMS', 'name': 'Afkomstig Pims'},\n",
       " 'PI_service_intern': {'description': '',\n",
       "  'id': 'PI_service_intern',\n",
       "  'name': 'PI service intern'},\n",
       " 'Prinseneiland': {'description': '',\n",
       "  'id': 'Prinseneiland',\n",
       "  'name': 'Prinseneiland'},\n",
       " 'Projectmeetnetten': {'description': '',\n",
       "  'id': 'Projectmeetnetten',\n",
       "  'name': 'Projectmatige meetnetten'},\n",
       " \"RWZI's\": {'description': '', 'id': \"RWZI's\", 'name': \"RWZI's\"},\n",
       " 'Uithoorn_bbb': {'description': '',\n",
       "  'id': 'Uithoorn_bbb',\n",
       "  'name': 'berg bezink bassins'},\n",
       " 'Uithoorn_rioolgemalen': {'description': '',\n",
       "  'id': 'Uithoorn_rioolgemalen',\n",
       "  'name': 'rioolgemalen'},\n",
       " 'Vastemeetnetten': {'description': '',\n",
       "  'id': 'Vastemeetnetten',\n",
       "  'name': 'Vaste meetnetten'},\n",
       " 'Vastemeetnetten_a': {'description': '',\n",
       "  'id': 'Vastemeetnetten_a',\n",
       "  'name': 'Vaste meetnetten'},\n",
       " 'Watergebiedsplannen_a': {'description': '',\n",
       "  'id': 'Watergebiedsplannen_a',\n",
       "  'name': 'tbv gebiedsprocessen'},\n",
       " 'boezem_Noodkering': {'description': '',\n",
       "  'id': 'boezem_Noodkering',\n",
       "  'name': 'Noodkering'},\n",
       " 'boezem_aflaat_(auto)': {'description': '',\n",
       "  'id': 'boezem_aflaat_(auto)',\n",
       "  'name': 'aflaat_(auto)'},\n",
       " 'boezem_afsluiter_(auto)': {'description': '',\n",
       "  'id': 'boezem_afsluiter_(auto)',\n",
       "  'name': 'afsluiter_(auto)'},\n",
       " 'boezem_boezemgemaal': {'description': '',\n",
       "  'id': 'boezem_boezemgemaal',\n",
       "  'name': 'Boezemgemaal'},\n",
       " 'boezem_debiet': {'description': '', 'id': 'boezem_debiet', 'name': 'Debiet'},\n",
       " 'boezem_defosfatering': {'description': '',\n",
       "  'id': 'boezem_defosfatering',\n",
       "  'name': 'Defosfatering'},\n",
       " 'boezem_hevel': {'description': '', 'id': 'boezem_hevel', 'name': 'Hevel'},\n",
       " 'boezem_inlaat_(auto)': {'description': '',\n",
       "  'id': 'boezem_inlaat_(auto)',\n",
       "  'name': 'Inlaat (auto)'},\n",
       " 'boezem_inlaat_(hand)': {'description': '',\n",
       "  'id': 'boezem_inlaat_(hand)',\n",
       "  'name': 'Inlaat (hand)'},\n",
       " 'boezem_meetpunt': {'description': '',\n",
       "  'id': 'boezem_meetpunt',\n",
       "  'name': 'Meetpunt'},\n",
       " 'boezem_meetpunt_(hand)': {'description': '',\n",
       "  'id': 'boezem_meetpunt_(hand)',\n",
       "  'name': 'Meetpunt_(hand)'},\n",
       " 'boezem_onderbemaling': {'description': '',\n",
       "  'id': 'boezem_onderbemaling',\n",
       "  'name': 'Onderbemaling'},\n",
       " 'boezem_opvoergemaal': {'description': '',\n",
       "  'id': 'boezem_opvoergemaal',\n",
       "  'name': 'Opvoergemaal'},\n",
       " 'boezem_poldergemaal': {'description': '',\n",
       "  'id': 'boezem_poldergemaal',\n",
       "  'name': 'Poldergemaal'},\n",
       " 'boezem_sluis_(auto)': {'description': '',\n",
       "  'id': 'boezem_sluis_(auto)',\n",
       "  'name': 'Sluis (auto)'},\n",
       " 'boezem_stuw_(auto)': {'description': '',\n",
       "  'id': 'boezem_stuw_(auto)',\n",
       "  'name': 'Stuw (auto)'},\n",
       " 'boezem_stuw_(hand)': {'description': '',\n",
       "  'id': 'boezem_stuw_(hand)',\n",
       "  'name': 'Stuw (hand)'},\n",
       " 'boezem_waterstanden': {'description': '',\n",
       "  'id': 'boezem_waterstanden',\n",
       "  'name': 'Waterstanden'},\n",
       " 'meteo_meetstation_KNMI': {'description': '',\n",
       "  'id': 'meteo_meetstation_KNMI',\n",
       "  'name': 'Meetstation KNMI'},\n",
       " 'meteo_meetstation_WNET': {'description': '',\n",
       "  'id': 'meteo_meetstation_WNET',\n",
       "  'name': 'Meetstation WNET'},\n",
       " 'meteo_radar': {'description': '', 'id': 'meteo_radar', 'name': 'Radar'},\n",
       " 'meteo_radar HKV cor dagwaarden': {'description': '',\n",
       "  'id': 'meteo_radar HKV cor dagwaarden',\n",
       "  'name': 'Radar correctie met dagwaarden knmi'},\n",
       " 'polder_Rioolgemaal': {'description': '',\n",
       "  'id': 'polder_Rioolgemaal',\n",
       "  'name': 'Rioolgemaal'},\n",
       " 'polder_aflaat_(auto)': {'description': '',\n",
       "  'id': 'polder_aflaat_(auto)',\n",
       "  'name': 'aflaat_(auto)'},\n",
       " 'polder_afsluiter_(auto)': {'description': '',\n",
       "  'id': 'polder_afsluiter_(auto)',\n",
       "  'name': 'Afsluiter (auto)'},\n",
       " 'polder_debiet': {'description': '', 'id': 'polder_debiet', 'name': 'Debiet'},\n",
       " 'polder_defosfatering': {'description': '',\n",
       "  'id': 'polder_defosfatering',\n",
       "  'name': 'Defosfatering'},\n",
       " 'polder_hevel': {'description': '', 'id': 'polder_hevel', 'name': 'Hevel'},\n",
       " 'polder_inlaat_(auto)': {'description': '',\n",
       "  'id': 'polder_inlaat_(auto)',\n",
       "  'name': 'Inlaat (auto)'},\n",
       " 'polder_inlaat_(hand)': {'description': '',\n",
       "  'id': 'polder_inlaat_(hand)',\n",
       "  'name': 'Inlaat (hand)'},\n",
       " 'polder_inlaat_WRS': {'description': '',\n",
       "  'id': 'polder_inlaat_WRS',\n",
       "  'name': 'Inlaat (hand WRS)'},\n",
       " 'polder_meetpunt_(hand)': {'description': '',\n",
       "  'id': 'polder_meetpunt_(hand)',\n",
       "  'name': 'Meetpunt_(hand)'},\n",
       " 'polder_meetpunt_WRS': {'description': '',\n",
       "  'id': 'polder_meetpunt_WRS',\n",
       "  'name': 'Meetpunt_(hand WRS)'},\n",
       " 'polder_meetpunt_actief': {'description': '',\n",
       "  'id': 'polder_meetpunt_actief',\n",
       "  'name': 'Actief'},\n",
       " 'polder_meetpunt_hist': {'description': '',\n",
       "  'id': 'polder_meetpunt_hist',\n",
       "  'name': 'Historisch'},\n",
       " 'polder_onderbemaling': {'description': '',\n",
       "  'id': 'polder_onderbemaling',\n",
       "  'name': 'Onderbemaling'},\n",
       " 'polder_opvoergemaal': {'description': '',\n",
       "  'id': 'polder_opvoergemaal',\n",
       "  'name': 'Opvoergemaal'},\n",
       " 'polder_poldergemaal': {'description': '',\n",
       "  'id': 'polder_poldergemaal',\n",
       "  'name': 'Poldergemaal'},\n",
       " 'polder_sluis_(auto)': {'description': '',\n",
       "  'id': 'polder_sluis_(auto)',\n",
       "  'name': 'Sluis (auto)'},\n",
       " 'polder_stuw_(auto)': {'description': '',\n",
       "  'id': 'polder_stuw_(auto)',\n",
       "  'name': 'Stuw (auto)'},\n",
       " 'polder_stuw_(hand)': {'description': '',\n",
       "  'id': 'polder_stuw_(hand)',\n",
       "  'name': 'Stuw (hand)'},\n",
       " 'polder_stuw_WRS': {'description': '',\n",
       "  'id': 'polder_stuw_WRS',\n",
       "  'name': 'Stuw (hand WRS)'},\n",
       " 'polder_waterstanden': {'description': '',\n",
       "  'id': 'polder_waterstanden',\n",
       "  'name': 'Waterstanden'}}"
      ]
     },
     "execution_count": 12,
     "metadata": {},
     "output_type": "execute_result"
    }
   ],
   "source": [
    "filters = pi.getFilters()\n",
    "vars(filters)"
   ]
  },
  {
   "cell_type": "markdown",
   "metadata": {},
   "source": [
    "Een uitgelezen filter welke als attribute is toegevoegd kan gebruikt worden als `filterId`."
   ]
  },
  {
   "cell_type": "code",
   "execution_count": 13,
   "metadata": {},
   "outputs": [
    {
     "ename": "AttributeError",
     "evalue": "'types.SimpleNamespace' object has no attribute 'boezem'",
     "output_type": "error",
     "traceback": [
      "\u001b[1;31m---------------------------------------------------------------------------\u001b[0m",
      "\u001b[1;31mAttributeError\u001b[0m                            Traceback (most recent call last)",
      "\u001b[1;32m<ipython-input-13-4a4f8cbc2130>\u001b[0m in \u001b[0;36m<module>\u001b[1;34m()\u001b[0m\n\u001b[1;32m----> 1\u001b[1;33m \u001b[0mfilterId\u001b[0m \u001b[1;33m=\u001b[0m \u001b[0mpi\u001b[0m\u001b[1;33m.\u001b[0m\u001b[0mFilters\u001b[0m\u001b[1;33m.\u001b[0m\u001b[0mboezem\u001b[0m\u001b[1;33m[\u001b[0m\u001b[1;34m'id'\u001b[0m\u001b[1;33m]\u001b[0m\u001b[1;33m\u001b[0m\u001b[0m\n\u001b[0m\u001b[0;32m      2\u001b[0m \u001b[0mprint\u001b[0m \u001b[1;33m(\u001b[0m\u001b[0mfilterId\u001b[0m\u001b[1;33m)\u001b[0m\u001b[1;33m\u001b[0m\u001b[0m\n",
      "\u001b[1;31mAttributeError\u001b[0m: 'types.SimpleNamespace' object has no attribute 'boezem'"
     ]
    }
   ],
   "source": [
    "filterId = pi.Filters.boezem['id']\n",
    "print (filterId)"
   ]
  },
  {
   "cell_type": "markdown",
   "metadata": {
    "collapsed": true
   },
   "source": [
    "Vervolgens kunnen de locties voor de desbetreffende filter uitgelezen worden met de `getLocations` functie. Met `setFormat` kan het formaat worden bepaald hoe het object teruggegeven moet worden. Dit kan zijn:\n",
    "- `gdf` voor een GeoDataFrame formaat\n",
    "- `geojson` voor een GeoJSON formaat\n",
    "- `dict` voor een Dictionary formaat\n",
    "\n",
    "(De verschillende formaten worden momenteel allemaal ook als attributes bijgeschreven onder het `pi.Locations` object)"
   ]
  },
  {
   "cell_type": "code",
   "execution_count": null,
   "metadata": {
    "collapsed": true
   },
   "outputs": [],
   "source": [
    "gdf = pi.getLocations(filterId = filterId, piVersion = '1.23', setFormat = 'gdf')"
   ]
  },
  {
   "cell_type": "markdown",
   "metadata": {},
   "source": [
    "Met een GeoDataFrame formaat kan je het gelijk visualiseren of -gewoon- als DataFrame vervolg acties op doen"
   ]
  },
  {
   "cell_type": "code",
   "execution_count": null,
   "metadata": {},
   "outputs": [],
   "source": [
    "%matplotlib inline\n",
    "gdf.plot()"
   ]
  },
  {
   "cell_type": "code",
   "execution_count": null,
   "metadata": {},
   "outputs": [],
   "source": [
    "gdf.head()"
   ]
  },
  {
   "cell_type": "markdown",
   "metadata": {},
   "source": [
    "Om een `list` te krijgen van alle beschikbare locaties doe het volgende. Er wordt vervolgens alleen de eerste 5 items getoond"
   ]
  },
  {
   "cell_type": "code",
   "execution_count": null,
   "metadata": {},
   "outputs": [],
   "source": [
    "locationIds = gdf.locationId.tolist()\n",
    "locationIds[0:5]"
   ]
  },
  {
   "cell_type": "markdown",
   "metadata": {},
   "source": [
    "Zoals gezegd worden de verschillende formaten als attributes onder het `pi.Locations` object weggeschreven, waarbij het GeoJSON formaat gelijk binnen een mapping module zoals `folium` gebruikt kan worden:"
   ]
  },
  {
   "cell_type": "code",
   "execution_count": null,
   "metadata": {
    "collapsed": true
   },
   "outputs": [],
   "source": [
    "# import folium\n",
    "# mapa = folium.Map([53.2, 5.5],\n",
    "#                   zoom_start=9,\n",
    "#                   tiles='cartodbpositron')\n",
    "\n",
    "# geoJSONdata = pi.Locations.asGeoJSON\n",
    "# points = folium.features.GeoJson(pi.Locations.asGeoJSON)\n",
    "\n",
    "# mapa.add_children(points)\n",
    "# mapa"
   ]
  },
  {
   "cell_type": "markdown",
   "metadata": {},
   "source": [
    "Om ook popups te linken aan folium is het makkelijker om vanuit een GeoDataFrame te werken en niet via een GeoJSON bestand"
   ]
  },
  {
   "cell_type": "code",
   "execution_count": null,
   "metadata": {},
   "outputs": [],
   "source": [
    "import folium\n",
    "mapa = folium.Map([53.2, 5.5],\n",
    "                  zoom_start=9,\n",
    "                  tiles='cartodbpositron')\n",
    "\n",
    "fg=folium.FeatureGroup(name=\"locations\")\n",
    "for idx, row in gdf.iterrows():\n",
    "    fg.add_child(folium.Marker(location=[row['geometry'].y, row['geometry'].x],\n",
    "                              popup=(folium.Popup('NAAM: '+row['shortName']+\" ID: \"+row['locationId'])))) \n",
    "mapa.add_child(fg)\n",
    "mapa.add_child(folium.LayerControl())\n",
    "mapa"
   ]
  },
  {
   "cell_type": "markdown",
   "metadata": {},
   "source": [
    "Of maak gebruik van de geojsonio module om het te parsen naar een site als www.geojson.io inclusief opmaak van tooltips"
   ]
  },
  {
   "cell_type": "code",
   "execution_count": null,
   "metadata": {
    "collapsed": true
   },
   "outputs": [],
   "source": [
    "#import geojsonio\n",
    "#geojsonio.embed(pi.Locations.asGeoJSON) # dit is niet embed, maar doet een redirect naar de website. Save notebook eerst."
   ]
  },
  {
   "cell_type": "markdown",
   "metadata": {},
   "source": [
    "Net zoals de locaties kunnen worden uitgelezen voor een filter is dat ook zo voor de parameters. Dit kan met de `getParameters` functie:"
   ]
  },
  {
   "cell_type": "code",
   "execution_count": null,
   "metadata": {},
   "outputs": [],
   "source": [
    "params = pi.getParameters(filterId=filterId)\n",
    "vars(params)"
   ]
  },
  {
   "cell_type": "markdown",
   "metadata": {},
   "source": [
    "Ook deze worden als attribute onder het object opgeslagen."
   ]
  },
  {
   "cell_type": "code",
   "execution_count": null,
   "metadata": {
    "collapsed": true
   },
   "outputs": [],
   "source": [
    "parameterIds = pi.Parameters.DP_meting['id']\n",
    "parameterIds"
   ]
  },
  {
   "cell_type": "markdown",
   "metadata": {},
   "source": [
    "Voor de `getTimeSeries` functie zijn ook nog de start en eindtijd nodig om de periode te bepalen voor de data request. Dit kan met een `datetime` object."
   ]
  },
  {
   "cell_type": "code",
   "execution_count": null,
   "metadata": {
    "collapsed": true
   },
   "outputs": [],
   "source": [
    "from datetime import datetime\n",
    "startTime = datetime(2017,3,1)\n",
    "endTime =  datetime.now()"
   ]
  },
  {
   "cell_type": "markdown",
   "metadata": {},
   "source": [
    "In dit geval zijn de startTime en endTime niet bewust van een timezone. In dit geval worden deze intern alsnog bepaald op basis `clientTimeZone` parameter. Standaard staat deze op `Europe/Amsterdam`. Mogelijke timezones worden bepaald met de pytz module (`import pytz`, `pytz.all_timezones`). \n",
    "\n",
    "Er worden items terug gegeven. Eerst het data object zelf in het gewenste `format`. En daarnaast nog een `entry`, wat op dit moment een combinatie is van `parameterId|locationId|units`. Deze `entry` zou bijvoorbeeld gebruikt kunnen worden als `key` voor een entry in de hkv.services dataportal \n",
    "\n",
    "Zoals gezegd zijn er meerdere formats, welke met `setFormat` ingesteld kan worden. Keuze kan gemaakt worden uit:\n",
    "- `df` voor pandas DataFrame\n",
    "- `json` voor een JSON formatted output\n",
    "- `gzip` voor een GZIP gecomprimiteerde JSON string"
   ]
  },
  {
   "cell_type": "code",
   "execution_count": null,
   "metadata": {
    "collapsed": true
   },
   "outputs": [],
   "source": [
    "df, entry = pi.getTimeSeriesForFilter2(filterId = filterId,\n",
    "                             parameterIds = parameterIds, \n",
    "                             locationIds=locationIds, \n",
    "                             startTime=startTime, \n",
    "                             endTime=endTime, \n",
    "                             clientTimeZone='Etc/GMT+1',\n",
    "                             setFormat='df')\n",
    "print (entry)"
   ]
  },
  {
   "cell_type": "code",
   "execution_count": null,
   "metadata": {
    "collapsed": true
   },
   "outputs": [],
   "source": [
    "df.head()"
   ]
  },
  {
   "cell_type": "code",
   "execution_count": null,
   "metadata": {
    "collapsed": true
   },
   "outputs": [],
   "source": [
    "import matplotlib.pyplot as plt\n",
    "import pandas as pd\n",
    "import numpy as np"
   ]
  },
  {
   "cell_type": "code",
   "execution_count": null,
   "metadata": {
    "collapsed": true
   },
   "outputs": [],
   "source": [
    "df.reset_index(inplace=True)\n",
    "df['value'].replace(-999.0,np.NaN, inplace = True)"
   ]
  },
  {
   "cell_type": "code",
   "execution_count": null,
   "metadata": {
    "collapsed": true
   },
   "outputs": [],
   "source": [
    "fig, ax = plt.subplots()\n",
    "ax.plot(df['date'],df['value'],'-')\n",
    "ylabel = df['parameterId'][0] + ' ('+df['units'][0]+')'\n",
    "ax.set_ylabel(ylabel)\n",
    "plt.show()"
   ]
  },
  {
   "cell_type": "markdown",
   "metadata": {},
   "source": [
    "Ondanks dat het formaat DataFrame was opgegeven kan een JSON formatted output opgevraagd worden via het attribute onder de TimeSeries object. \n",
    "\n",
    "Kijk uit met opvragen van de gehele string sinds deze groot kan zijn."
   ]
  },
  {
   "cell_type": "code",
   "execution_count": null,
   "metadata": {
    "collapsed": true
   },
   "outputs": [],
   "source": [
    "pi.TimeSeries.asJSON[0:1000]"
   ]
  },
  {
   "cell_type": "code",
   "execution_count": null,
   "metadata": {
    "collapsed": true
   },
   "outputs": [],
   "source": [
    "availableTimeZones = pi.getAvailableTimeZones()\n",
    "print(availableTimeZones)"
   ]
  }
 ],
 "metadata": {
  "kernelspec": {
   "display_name": "Python 3",
   "language": "python",
   "name": "python3"
  },
  "language_info": {
   "codemirror_mode": {
    "name": "ipython",
    "version": 3
   },
   "file_extension": ".py",
   "mimetype": "text/x-python",
   "name": "python",
   "nbconvert_exporter": "python",
   "pygments_lexer": "ipython3",
   "version": "3.6.3"
  }
 },
 "nbformat": 4,
 "nbformat_minor": 2
}
