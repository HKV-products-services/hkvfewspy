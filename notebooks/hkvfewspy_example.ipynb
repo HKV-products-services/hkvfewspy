{
 "cells": [
  {
   "cell_type": "markdown",
   "metadata": {},
   "source": [
    "### Python package voor een FewsPI service"
   ]
  },
  {
   "cell_type": "markdown",
   "metadata": {},
   "source": [
    "Voorbeeld notebook om vanuit Python te praten met een openbare of lokale FewsPi service.\n",
    "\n",
    "Allereerst, importeer de module als volgt:"
   ]
  },
  {
   "cell_type": "code",
   "execution_count": 1,
   "metadata": {
    "collapsed": true
   },
   "outputs": [],
   "source": [
    "import sys\n",
    "sys.path.append(\"..\") \n",
    "from hkvfewspy.io.fewspi import pi"
   ]
  },
  {
   "cell_type": "markdown",
   "metadata": {},
   "source": [
    "version 0.3.0\n",
    "\n",
    "De volgende functies zijn beschikbaar via de module\n",
    "\n",
    "- setClient\n",
    "- getFilters\n",
    "- getParameters\n",
    "- getTimeSeries\n",
    "- getTimeSeriesForFilter2 ! this is the 'v0.2.2 getTimeSeries'\n",
    "- getTimeZoneID\n",
    "- getAvailableTimeZones"
   ]
  },
  {
   "cell_type": "markdown",
   "metadata": {},
   "source": [
    "Om een pi service uit te lezen moet deze eerst als client gezet worden. Dit kan met de functie `setClient`. Een wsdl service URL moet ingevuld worden en dat is bijvoorbeeld `http://localhost:8081/FewsPiService/fewspiservice?wsdl` of `http://localhost:8101/FewsPiService?wsdl`"
   ]
  },
  {
   "cell_type": "code",
   "execution_count": 2,
   "metadata": {
    "collapsed": true
   },
   "outputs": [],
   "source": [
    "pi.setClient(wsdl = 'http://localhost:8081/FewsPiService/fewspiservice?wsdl')"
   ]
  },
  {
   "cell_type": "code",
   "execution_count": 3,
   "metadata": {
    "collapsed": true
   },
   "outputs": [],
   "source": [
    "from datetime import datetime\n",
    "startTime = datetime(2017,12,29)\n",
    "endTime =  datetime(2018,1,1)"
   ]
  },
  {
   "cell_type": "code",
   "execution_count": 4,
   "metadata": {
    "collapsed": true
   },
   "outputs": [],
   "source": [
    "params = dict(\n",
    "    moduleInstanceIds=['Boezemwaterstanden2'],\n",
    "    parameterIds=['H.meting.10min'],\n",
    "    startTime=startTime,\n",
    "    endTime=endTime,\n",
    "    clientTimeZone = 'Etc/GMT+1',\n",
    "    forecastSearchCount=1,\n",
    "    convertDatum='false',\n",
    "    useDisplayUnits='false',\n",
    "    showThresholds='true',\n",
    "    omitMissing='false',\n",
    "    onlyHeaders='false',\n",
    "    onlyManualEdits='false',\n",
    "    showStatistics='false',\n",
    "    ensembleId='',\n",
    "    importFromExternalDataSource='false',\n",
    "    showEnsembleMemberIds='false',\n",
    "    piVersion='1.23'\n",
    ")"
   ]
  },
  {
   "cell_type": "code",
   "execution_count": 5,
   "metadata": {
    "scrolled": true
   },
   "outputs": [
    {
     "name": "stdout",
     "output_type": "stream",
     "text": [
      "warning: 'header' has no attribute 'qualifierId'\n",
      "warning: 'header' has no attribute 'moduleInstanceId'\n",
      "warning: 'header' has no attribute 'qualifierId'\n",
      "warning: 'header' has no attribute 'moduleInstanceId'\n",
      "warning: 'header' has no attribute 'qualifierId'\n",
      "warning: 'header' has no attribute 'moduleInstanceId'\n",
      "warning: 'header' has no attribute 'qualifierId'\n",
      "warning: 'header' has no attribute 'moduleInstanceId'\n",
      "warning: 'header' has no attribute 'qualifierId'\n",
      "warning: 'header' has no attribute 'moduleInstanceId'\n",
      "warning: 'header' has no attribute 'qualifierId'\n",
      "warning: 'header' has no attribute 'moduleInstanceId'\n",
      "warning: 'header' has no attribute 'qualifierId'\n",
      "warning: 'header' has no attribute 'moduleInstanceId'\n",
      "warning: 'header' has no attribute 'qualifierId'\n",
      "warning: 'header' has no attribute 'moduleInstanceId'\n",
      "warning: 'header' has no attribute 'qualifierId'\n",
      "warning: 'header' has no attribute 'moduleInstanceId'\n",
      "warning: 'header' has no attribute 'qualifierId'\n",
      "warning: 'header' has no attribute 'moduleInstanceId'\n",
      "warning: 'header' has no attribute 'qualifierId'\n",
      "warning: 'header' has no attribute 'moduleInstanceId'\n",
      "warning: 'header' has no attribute 'qualifierId'\n",
      "warning: 'header' has no attribute 'moduleInstanceId'\n",
      "warning: 'header' has no attribute 'qualifierId'\n",
      "warning: 'header' has no attribute 'moduleInstanceId'\n",
      "warning: 'header' has no attribute 'qualifierId'\n",
      "warning: 'header' has no attribute 'moduleInstanceId'\n",
      "warning: 'header' has no attribute 'qualifierId'\n",
      "warning: 'header' has no attribute 'moduleInstanceId'\n",
      "warning: 'header' has no attribute 'qualifierId'\n",
      "warning: 'header' has no attribute 'moduleInstanceId'\n",
      "warning: 'header' has no attribute 'qualifierId'\n",
      "warning: 'header' has no attribute 'moduleInstanceId'\n",
      "warning: 'header' has no attribute 'qualifierId'\n",
      "warning: 'header' has no attribute 'moduleInstanceId'\n",
      "warning: 'header' has no attribute 'qualifierId'\n",
      "warning: 'header' has no attribute 'moduleInstanceId'\n",
      "warning: 'header' has no attribute 'qualifierId'\n",
      "warning: 'header' has no attribute 'moduleInstanceId'\n",
      "warning: 'header' has no attribute 'qualifierId'\n",
      "warning: 'header' has no attribute 'moduleInstanceId'\n",
      "warning: 'header' has no attribute 'qualifierId'\n",
      "warning: 'header' has no attribute 'moduleInstanceId'\n",
      "warning: 'header' has no attribute 'qualifierId'\n",
      "warning: 'header' has no attribute 'moduleInstanceId'\n",
      "warning: 'header' has no attribute 'qualifierId'\n",
      "warning: 'header' has no attribute 'moduleInstanceId'\n",
      "warning: 'header' has no attribute 'qualifierId'\n",
      "warning: 'header' has no attribute 'moduleInstanceId'\n",
      "warning: 'header' has no attribute 'qualifierId'\n",
      "warning: 'header' has no attribute 'moduleInstanceId'\n",
      "warning: 'header' has no attribute 'qualifierId'\n",
      "warning: 'header' has no attribute 'moduleInstanceId'\n",
      "warning: 'header' has no attribute 'qualifierId'\n",
      "warning: 'header' has no attribute 'moduleInstanceId'\n",
      "warning: 'header' has no attribute 'qualifierId'\n",
      "warning: 'header' has no attribute 'moduleInstanceId'\n",
      "warning: 'header' has no attribute 'qualifierId'\n",
      "warning: 'header' has no attribute 'moduleInstanceId'\n",
      "warning: 'header' has no attribute 'qualifierId'\n",
      "warning: 'header' has no attribute 'moduleInstanceId'\n",
      "warning: 'header' has no attribute 'qualifierId'\n",
      "warning: 'header' has no attribute 'moduleInstanceId'\n",
      "warning: 'header' has no attribute 'qualifierId'\n",
      "warning: 'header' has no attribute 'moduleInstanceId'\n",
      "warning: 'header' has no attribute 'qualifierId'\n",
      "warning: 'header' has no attribute 'moduleInstanceId'\n",
      "warning: 'header' has no attribute 'qualifierId'\n",
      "warning: 'header' has no attribute 'moduleInstanceId'\n",
      "warning: 'header' has no attribute 'qualifierId'\n",
      "warning: 'header' has no attribute 'moduleInstanceId'\n",
      "warning: 'header' has no attribute 'qualifierId'\n",
      "warning: 'header' has no attribute 'moduleInstanceId'\n",
      "warning: 'header' has no attribute 'qualifierId'\n",
      "warning: 'header' has no attribute 'moduleInstanceId'\n",
      "warning: 'header' has no attribute 'qualifierId'\n",
      "warning: 'header' has no attribute 'moduleInstanceId'\n",
      "warning: 'header' has no attribute 'qualifierId'\n",
      "warning: 'header' has no attribute 'moduleInstanceId'\n",
      "warning: 'header' has no attribute 'qualifierId'\n",
      "warning: 'header' has no attribute 'moduleInstanceId'\n",
      "warning: 'header' has no attribute 'qualifierId'\n",
      "warning: 'header' has no attribute 'moduleInstanceId'\n",
      "warning: 'header' has no attribute 'qualifierId'\n",
      "warning: 'header' has no attribute 'moduleInstanceId'\n",
      "warning: 'header' has no attribute 'qualifierId'\n",
      "warning: 'header' has no attribute 'moduleInstanceId'\n",
      "warning: 'header' has no attribute 'qualifierId'\n",
      "warning: 'header' has no attribute 'moduleInstanceId'\n",
      "warning: 'header' has no attribute 'qualifierId'\n",
      "warning: 'header' has no attribute 'moduleInstanceId'\n",
      "warning: 'header' has no attribute 'qualifierId'\n",
      "warning: 'header' has no attribute 'moduleInstanceId'\n",
      "warning: 'header' has no attribute 'qualifierId'\n",
      "warning: 'header' has no attribute 'moduleInstanceId'\n",
      "warning: 'header' has no attribute 'qualifierId'\n",
      "warning: 'header' has no attribute 'moduleInstanceId'\n",
      "warning: 'header' has no attribute 'qualifierId'\n",
      "warning: 'header' has no attribute 'moduleInstanceId'\n",
      "warning: 'header' has no attribute 'qualifierId'\n",
      "warning: 'header' has no attribute 'moduleInstanceId'\n",
      "warning: 'header' has no attribute 'qualifierId'\n",
      "warning: 'header' has no attribute 'moduleInstanceId'\n",
      "warning: 'header' has no attribute 'qualifierId'\n",
      "warning: 'header' has no attribute 'moduleInstanceId'\n",
      "warning: 'header' has no attribute 'qualifierId'\n",
      "warning: 'header' has no attribute 'moduleInstanceId'\n",
      "warning: 'header' has no attribute 'qualifierId'\n",
      "warning: 'header' has no attribute 'moduleInstanceId'\n",
      "warning: 'header' has no attribute 'qualifierId'\n",
      "warning: 'header' has no attribute 'moduleInstanceId'\n",
      "warning: 'header' has no attribute 'qualifierId'\n",
      "warning: 'header' has no attribute 'moduleInstanceId'\n",
      "warning: 'header' has no attribute 'qualifierId'\n",
      "warning: 'header' has no attribute 'moduleInstanceId'\n",
      "warning: 'header' has no attribute 'qualifierId'\n",
      "warning: 'header' has no attribute 'moduleInstanceId'\n",
      "warning: 'header' has no attribute 'qualifierId'\n",
      "warning: 'header' has no attribute 'moduleInstanceId'\n",
      "warning: 'header' has no attribute 'qualifierId'\n",
      "warning: 'header' has no attribute 'moduleInstanceId'\n",
      "warning: 'header' has no attribute 'qualifierId'\n",
      "warning: 'header' has no attribute 'moduleInstanceId'\n",
      "warning: 'header' has no attribute 'qualifierId'\n",
      "warning: 'header' has no attribute 'moduleInstanceId'\n",
      "warning: 'header' has no attribute 'qualifierId'\n",
      "warning: 'header' has no attribute 'moduleInstanceId'\n",
      "warning: 'header' has no attribute 'qualifierId'\n",
      "warning: 'header' has no attribute 'moduleInstanceId'\n",
      "warning: 'header' has no attribute 'qualifierId'\n",
      "warning: 'header' has no attribute 'moduleInstanceId'\n"
     ]
    },
    {
     "data": {
      "text/html": [
       "<div>\n",
       "<style>\n",
       "    .dataframe thead tr:only-child th {\n",
       "        text-align: right;\n",
       "    }\n",
       "\n",
       "    .dataframe thead th {\n",
       "        text-align: left;\n",
       "    }\n",
       "\n",
       "    .dataframe tbody tr th {\n",
       "        vertical-align: top;\n",
       "    }\n",
       "</style>\n",
       "<table border=\"1\" class=\"dataframe\">\n",
       "  <thead>\n",
       "    <tr style=\"text-align: right;\">\n",
       "      <th></th>\n",
       "      <th></th>\n",
       "      <th></th>\n",
       "      <th></th>\n",
       "      <th></th>\n",
       "      <th></th>\n",
       "      <th></th>\n",
       "      <th>flag</th>\n",
       "      <th>value</th>\n",
       "    </tr>\n",
       "    <tr>\n",
       "      <th>date</th>\n",
       "      <th>moduleId</th>\n",
       "      <th>qualifierId</th>\n",
       "      <th>parameterId</th>\n",
       "      <th>units</th>\n",
       "      <th>locationId</th>\n",
       "      <th>stationName</th>\n",
       "      <th></th>\n",
       "      <th></th>\n",
       "    </tr>\n",
       "  </thead>\n",
       "  <tbody>\n",
       "    <tr>\n",
       "      <th rowspan=\"5\" valign=\"top\">2017-12-29 00:00:00-01:00</th>\n",
       "      <th rowspan=\"5\" valign=\"top\"></th>\n",
       "      <th rowspan=\"5\" valign=\"top\"></th>\n",
       "      <th rowspan=\"5\" valign=\"top\">H.meting.10min</th>\n",
       "      <th rowspan=\"5\" valign=\"top\">m/nap</th>\n",
       "      <th>60001_boezem</th>\n",
       "      <th>Winkel, Boezem</th>\n",
       "      <td>0.0</td>\n",
       "      <td>-0.434</td>\n",
       "    </tr>\n",
       "    <tr>\n",
       "      <th>60009_boezem</th>\n",
       "      <th>Pondskoekersluis, Boezem</th>\n",
       "      <td>0.0</td>\n",
       "      <td>-0.407</td>\n",
       "    </tr>\n",
       "    <tr>\n",
       "      <th>60010_boezem</th>\n",
       "      <th>De Ruiter Demmerik, Boezempeil</th>\n",
       "      <td>0.0</td>\n",
       "      <td>-0.395</td>\n",
       "    </tr>\n",
       "    <tr>\n",
       "      <th>60015_boezem</th>\n",
       "      <th>Oudhuizersluis, Boezem</th>\n",
       "      <td>0.0</td>\n",
       "      <td>-0.428</td>\n",
       "    </tr>\n",
       "    <tr>\n",
       "      <th>60030_boezem</th>\n",
       "      <th>Derde Bedijking, Boezem</th>\n",
       "      <td>0.0</td>\n",
       "      <td>-0.426</td>\n",
       "    </tr>\n",
       "  </tbody>\n",
       "</table>\n",
       "</div>"
      ],
      "text/plain": [
       "                                                                                                                 flag  \\\n",
       "date                      moduleId qualifierId parameterId    units locationId   stationName                            \n",
       "2017-12-29 00:00:00-01:00                      H.meting.10min m/nap 60001_boezem Winkel, Boezem                   0.0   \n",
       "                                                                    60009_boezem Pondskoekersluis, Boezem         0.0   \n",
       "                                                                    60010_boezem De Ruiter Demmerik, Boezempeil   0.0   \n",
       "                                                                    60015_boezem Oudhuizersluis, Boezem           0.0   \n",
       "                                                                    60030_boezem Derde Bedijking, Boezem          0.0   \n",
       "\n",
       "                                                                                                                 value  \n",
       "date                      moduleId qualifierId parameterId    units locationId   stationName                            \n",
       "2017-12-29 00:00:00-01:00                      H.meting.10min m/nap 60001_boezem Winkel, Boezem                 -0.434  \n",
       "                                                                    60009_boezem Pondskoekersluis, Boezem       -0.407  \n",
       "                                                                    60010_boezem De Ruiter Demmerik, Boezempeil -0.395  \n",
       "                                                                    60015_boezem Oudhuizersluis, Boezem         -0.428  \n",
       "                                                                    60030_boezem Derde Bedijking, Boezem        -0.426  "
      ]
     },
     "execution_count": 5,
     "metadata": {},
     "output_type": "execute_result"
    }
   ],
   "source": [
    "df, entry = pi.getTimeSeries(params, setFormat='df')\n",
    "df.head()"
   ]
  },
  {
   "cell_type": "code",
   "execution_count": 6,
   "metadata": {},
   "outputs": [
    {
     "data": {
      "text/plain": [
       "flag     28578\n",
       "value    28578\n",
       "dtype: int64"
      ]
     },
     "execution_count": 6,
     "metadata": {},
     "output_type": "execute_result"
    }
   ],
   "source": [
    "df.count()"
   ]
  },
  {
   "cell_type": "code",
   "execution_count": null,
   "metadata": {
    "collapsed": true
   },
   "outputs": [],
   "source": [
    "filters = pi.getFilters()\n",
    "vars(filters)"
   ]
  },
  {
   "cell_type": "markdown",
   "metadata": {},
   "source": [
    "Een uitgelezen filter welke als attribute is toegevoegd kan gebruikt worden als `filterId`."
   ]
  },
  {
   "cell_type": "code",
   "execution_count": null,
   "metadata": {
    "collapsed": true
   },
   "outputs": [],
   "source": [
    "filterId = pi.Filters.boezem['id']\n",
    "print (filterId)"
   ]
  },
  {
   "cell_type": "markdown",
   "metadata": {
    "collapsed": true
   },
   "source": [
    "Vervolgens kunnen de locties voor de desbetreffende filter uitgelezen worden met de `getLocations` functie. Met `setFormat` kan het formaat worden bepaald hoe het object teruggegeven moet worden. Dit kan zijn:\n",
    "- `gdf` voor een GeoDataFrame formaat\n",
    "- `geojson` voor een GeoJSON formaat\n",
    "- `dict` voor een Dictionary formaat\n",
    "\n",
    "(De verschillende formaten worden momenteel allemaal ook als attributes bijgeschreven onder het `pi.Locations` object)"
   ]
  },
  {
   "cell_type": "code",
   "execution_count": null,
   "metadata": {
    "collapsed": true
   },
   "outputs": [],
   "source": [
    "gdf = pi.getLocations(filterId = filterId, piVersion = '1.23', setFormat = 'gdf')"
   ]
  },
  {
   "cell_type": "markdown",
   "metadata": {},
   "source": [
    "Met een GeoDataFrame formaat kan je het gelijk visualiseren of -gewoon- als DataFrame vervolg acties op doen"
   ]
  },
  {
   "cell_type": "code",
   "execution_count": null,
   "metadata": {
    "collapsed": true
   },
   "outputs": [],
   "source": [
    "%matplotlib inline\n",
    "gdf.plot()"
   ]
  },
  {
   "cell_type": "code",
   "execution_count": null,
   "metadata": {
    "collapsed": true
   },
   "outputs": [],
   "source": [
    "gdf.head()"
   ]
  },
  {
   "cell_type": "markdown",
   "metadata": {},
   "source": [
    "Om een `list` te krijgen van alle beschikbare locaties doe het volgende. Er wordt vervolgens alleen de eerste 5 items getoond"
   ]
  },
  {
   "cell_type": "code",
   "execution_count": null,
   "metadata": {
    "collapsed": true
   },
   "outputs": [],
   "source": [
    "locationIds = gdf.locationId.tolist()\n",
    "locationIds[0:5]"
   ]
  },
  {
   "cell_type": "markdown",
   "metadata": {},
   "source": [
    "Zoals gezegd worden de verschillende formaten als attributes onder het `pi.Locations` object weggeschreven, waarbij het GeoJSON formaat gelijk binnen een mapping module zoals `folium` gebruikt kan worden:"
   ]
  },
  {
   "cell_type": "code",
   "execution_count": null,
   "metadata": {
    "collapsed": true
   },
   "outputs": [],
   "source": [
    "# import folium\n",
    "# mapa = folium.Map([53.2, 5.5],\n",
    "#                   zoom_start=9,\n",
    "#                   tiles='cartodbpositron')\n",
    "\n",
    "# geoJSONdata = pi.Locations.asGeoJSON\n",
    "# points = folium.features.GeoJson(pi.Locations.asGeoJSON)\n",
    "\n",
    "# mapa.add_children(points)\n",
    "# mapa"
   ]
  },
  {
   "cell_type": "markdown",
   "metadata": {},
   "source": [
    "Om ook popups te linken aan folium is het makkelijker om vanuit een GeoDataFrame te werken en niet via een GeoJSON bestand"
   ]
  },
  {
   "cell_type": "code",
   "execution_count": null,
   "metadata": {
    "collapsed": true
   },
   "outputs": [],
   "source": [
    "import folium\n",
    "mapa = folium.Map([53.2, 5.5],\n",
    "                  zoom_start=9,\n",
    "                  tiles='cartodbpositron')\n",
    "\n",
    "fg=folium.FeatureGroup(name=\"locations\")\n",
    "for idx, row in gdf.iterrows():\n",
    "    fg.add_child(folium.Marker(location=[row['geometry'].y, row['geometry'].x],\n",
    "                              popup=(folium.Popup('NAAM: '+row['shortName']+\" ID: \"+row['locationId'])))) \n",
    "mapa.add_child(fg)\n",
    "mapa.add_child(folium.LayerControl())\n",
    "mapa"
   ]
  },
  {
   "cell_type": "markdown",
   "metadata": {},
   "source": [
    "Of maak gebruik van de geojsonio module om het te parsen naar een site als www.geojson.io inclusief opmaak van tooltips"
   ]
  },
  {
   "cell_type": "code",
   "execution_count": null,
   "metadata": {
    "collapsed": true
   },
   "outputs": [],
   "source": [
    "#import geojsonio\n",
    "#geojsonio.embed(pi.Locations.asGeoJSON) # dit is niet embed, maar doet een redirect naar de website. Save notebook eerst."
   ]
  },
  {
   "cell_type": "markdown",
   "metadata": {},
   "source": [
    "Net zoals de locaties kunnen worden uitgelezen voor een filter is dat ook zo voor de parameters. Dit kan met de `getParameters` functie:"
   ]
  },
  {
   "cell_type": "code",
   "execution_count": null,
   "metadata": {
    "collapsed": true
   },
   "outputs": [],
   "source": [
    "params = pi.getParameters(filterId=filterId)\n",
    "vars(params)"
   ]
  },
  {
   "cell_type": "markdown",
   "metadata": {},
   "source": [
    "Ook deze worden als attribute onder het object opgeslagen."
   ]
  },
  {
   "cell_type": "code",
   "execution_count": null,
   "metadata": {
    "collapsed": true
   },
   "outputs": [],
   "source": [
    "parameterIds = pi.Parameters.DP_meting['id']\n",
    "parameterIds"
   ]
  },
  {
   "cell_type": "markdown",
   "metadata": {},
   "source": [
    "Voor de `getTimeSeries` functie zijn ook nog de start en eindtijd nodig om de periode te bepalen voor de data request. Dit kan met een `datetime` object."
   ]
  },
  {
   "cell_type": "code",
   "execution_count": null,
   "metadata": {
    "collapsed": true
   },
   "outputs": [],
   "source": [
    "from datetime import datetime\n",
    "startTime = datetime(2017,3,1)\n",
    "endTime =  datetime.now()"
   ]
  },
  {
   "cell_type": "markdown",
   "metadata": {},
   "source": [
    "In dit geval zijn de startTime en endTime niet bewust van een timezone. In dit geval worden deze intern alsnog bepaald op basis `clientTimeZone` parameter. Standaard staat deze op `Europe/Amsterdam`. Mogelijke timezones worden bepaald met de pytz module (`import pytz`, `pytz.all_timezones`). \n",
    "\n",
    "Er worden items terug gegeven. Eerst het data object zelf in het gewenste `format`. En daarnaast nog een `entry`, wat op dit moment een combinatie is van `parameterId|locationId|units`. Deze `entry` zou bijvoorbeeld gebruikt kunnen worden als `key` voor een entry in de hkv.services dataportal \n",
    "\n",
    "Zoals gezegd zijn er meerdere formats, welke met `setFormat` ingesteld kan worden. Keuze kan gemaakt worden uit:\n",
    "- `df` voor pandas DataFrame\n",
    "- `json` voor een JSON formatted output\n",
    "- `gzip` voor een GZIP gecomprimiteerde JSON string"
   ]
  },
  {
   "cell_type": "code",
   "execution_count": null,
   "metadata": {
    "collapsed": true
   },
   "outputs": [],
   "source": [
    "df, entry = pi.getTimeSeriesForFilter2(filterId = filterId,\n",
    "                             parameterIds = parameterIds, \n",
    "                             locationIds=locationIds, \n",
    "                             startTime=startTime, \n",
    "                             endTime=endTime, \n",
    "                             clientTimeZone='Etc/GMT+1',\n",
    "                             setFormat='df')\n",
    "print (entry)"
   ]
  },
  {
   "cell_type": "code",
   "execution_count": null,
   "metadata": {
    "collapsed": true
   },
   "outputs": [],
   "source": [
    "df.head()"
   ]
  },
  {
   "cell_type": "code",
   "execution_count": null,
   "metadata": {
    "collapsed": true
   },
   "outputs": [],
   "source": [
    "import matplotlib.pyplot as plt\n",
    "import pandas as pd\n",
    "import numpy as np"
   ]
  },
  {
   "cell_type": "code",
   "execution_count": null,
   "metadata": {
    "collapsed": true
   },
   "outputs": [],
   "source": [
    "df.reset_index(inplace=True)\n",
    "df['value'].replace(-999.0,np.NaN, inplace = True)"
   ]
  },
  {
   "cell_type": "code",
   "execution_count": null,
   "metadata": {
    "collapsed": true
   },
   "outputs": [],
   "source": [
    "fig, ax = plt.subplots()\n",
    "ax.plot(df['date'],df['value'],'-')\n",
    "ylabel = df['parameterId'][0] + ' ('+df['units'][0]+')'\n",
    "ax.set_ylabel(ylabel)\n",
    "plt.show()"
   ]
  },
  {
   "cell_type": "code",
   "execution_count": null,
   "metadata": {
    "collapsed": true
   },
   "outputs": [],
   "source": [
    "pi.TimeSeries.asJSON[0:1000]"
   ]
  },
  {
   "cell_type": "code",
   "execution_count": null,
   "metadata": {
    "collapsed": true
   },
   "outputs": [],
   "source": [
    "availableTimeZones = pi.getAvailableTimeZones()\n",
    "print(availableTimeZones)"
   ]
  },
  {
   "cell_type": "code",
   "execution_count": null,
   "metadata": {
    "collapsed": true
   },
   "outputs": [],
   "source": []
  }
 ],
 "metadata": {
  "kernelspec": {
   "display_name": "Python 3",
   "language": "python",
   "name": "python3"
  },
  "language_info": {
   "codemirror_mode": {
    "name": "ipython",
    "version": 3
   },
   "file_extension": ".py",
   "mimetype": "text/x-python",
   "name": "python",
   "nbconvert_exporter": "python",
   "pygments_lexer": "ipython3",
   "version": "3.6.3"
  }
 },
 "nbformat": 4,
 "nbformat_minor": 2
}
