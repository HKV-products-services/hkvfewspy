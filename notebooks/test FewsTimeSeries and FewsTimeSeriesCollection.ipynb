{
 "cells": [
  {
   "cell_type": "markdown",
   "metadata": {},
   "source": [
    "# Test FewsTimeSeries and FewsTimeSeriesCollection\n",
    "\n"
   ]
  },
  {
   "cell_type": "code",
   "execution_count": 1,
   "metadata": {},
   "outputs": [],
   "source": [
    "import sys\n",
    "sys.path.append(\"..\")\n",
    "import hkvfewspy as fewspy\n",
    "import matplotlib.pyplot as plt\n",
    "import os\n",
    "import pandas as pd"
   ]
  },
  {
   "cell_type": "markdown",
   "metadata": {},
   "source": [
    "## `FewsTimeSeries`\n",
    "\n",
    "Import first series from Fews Pi-XML file. Even though file contains two series `FewsTimeSeries` will only import the first series in the file. "
   ]
  },
  {
   "cell_type": "code",
   "execution_count": 3,
   "metadata": {},
   "outputs": [],
   "source": [
    "fews_ts = fewspy.schemas.timeseries.FewsTimeSeries.from_pi_xml(\"./test_2_series.xml\")"
   ]
  },
  {
   "cell_type": "markdown",
   "metadata": {},
   "source": [
    "Plot the series by calling plot on the FewsTimeSeries object (plot is passed on to the `plot` function in pandas for Series and DataFrames)."
   ]
  },
  {
   "cell_type": "code",
   "execution_count": 4,
   "metadata": {},
   "outputs": [
    {
     "data": {
      "image/png": "[encoded data removed]",
      "text/plain": [
       "<Figure size 432x288 with 1 Axes>"
      ]
     },
     "metadata": {},
     "output_type": "display_data"
    }
   ],
   "source": [
    "fews_ts.plot(y=\"value\")\n",
    "plt.show()"
   ]
  },
  {
   "cell_type": "markdown",
   "metadata": {},
   "source": [
    "View metadata:"
   ]
  },
  {
   "cell_type": "code",
   "execution_count": 5,
   "metadata": {},
   "outputs": [
    {
     "data": {
      "text/plain": [
       "{'type': 'instantaneous',\n",
       " 'moduleInstanceId': 'test_A1',\n",
       " 'locationId': 'A1',\n",
       " 'parameterId': 'series',\n",
       " 'timeStep': None,\n",
       " 'startDate': None,\n",
       " 'endDate': None,\n",
       " 'missVal': 'NaN',\n",
       " 'stationName': 'test_A1',\n",
       " 'lat': '52.0',\n",
       " 'lon': '5.00',\n",
       " 'x': '200000.0',\n",
       " 'y': '340000.0',\n",
       " 'units': 'm'}"
      ]
     },
     "execution_count": 5,
     "metadata": {},
     "output_type": "execute_result"
    }
   ],
   "source": [
    "fews_ts.header"
   ]
  },
  {
   "cell_type": "code",
   "execution_count": 6,
   "metadata": {},
   "outputs": [],
   "source": [
    "fews_ts.to_pi_xml(\"./temp_1series.xml\")"
   ]
  },
  {
   "cell_type": "markdown",
   "metadata": {},
   "source": [
    "## `FewsTimeSeriesCollection`\n",
    "To import all series from a Fews Pi-XML file, use `FewsTimeSeriesCollection`:"
   ]
  },
  {
   "cell_type": "code",
   "execution_count": 7,
   "metadata": {},
   "outputs": [],
   "source": [
    "fews_ts_collection = fewspy.schemas.timeseries.FewsTimeSeriesCollection.from_pi_xml(\"./test_2_series.xml\")"
   ]
  },
  {
   "cell_type": "markdown",
   "metadata": {},
   "source": [
    "Timeseries are collected in a DataFrame with header data as columns and the series in the events column:"
   ]
  },
  {
   "cell_type": "code",
   "execution_count": 8,
   "metadata": {},
   "outputs": [
    {
     "data": {
      "text/html": [
       "<div>\n",
       "<style scoped>\n",
       "    .dataframe tbody tr th:only-of-type {\n",
       "        vertical-align: middle;\n",
       "    }\n",
       "\n",
       "    .dataframe tbody tr th {\n",
       "        vertical-align: top;\n",
       "    }\n",
       "\n",
       "    .dataframe thead th {\n",
       "        text-align: right;\n",
       "    }\n",
       "</style>\n",
       "<table border=\"1\" class=\"dataframe\">\n",
       "  <thead>\n",
       "    <tr style=\"text-align: right;\">\n",
       "      <th></th>\n",
       "      <th>endDate</th>\n",
       "      <th>events</th>\n",
       "      <th>lat</th>\n",
       "      <th>locationId</th>\n",
       "      <th>lon</th>\n",
       "      <th>missVal</th>\n",
       "      <th>moduleInstanceId</th>\n",
       "      <th>parameterId</th>\n",
       "      <th>startDate</th>\n",
       "      <th>stationName</th>\n",
       "      <th>timeStep</th>\n",
       "      <th>type</th>\n",
       "      <th>units</th>\n",
       "      <th>x</th>\n",
       "      <th>y</th>\n",
       "    </tr>\n",
       "  </thead>\n",
       "  <tbody>\n",
       "    <tr>\n",
       "      <th>0</th>\n",
       "      <td>None</td>\n",
       "      <td>&lt;hkvfewspy.schemas.timeseries.FewsTimeSeries o...</td>\n",
       "      <td>52.0</td>\n",
       "      <td>A1</td>\n",
       "      <td>5.00</td>\n",
       "      <td>NaN</td>\n",
       "      <td>test_A1</td>\n",
       "      <td>series</td>\n",
       "      <td>None</td>\n",
       "      <td>test_A1</td>\n",
       "      <td>None</td>\n",
       "      <td>instantaneous</td>\n",
       "      <td>m</td>\n",
       "      <td>200000.0</td>\n",
       "      <td>340000.0</td>\n",
       "    </tr>\n",
       "    <tr>\n",
       "      <th>1</th>\n",
       "      <td>None</td>\n",
       "      <td>&lt;hkvfewspy.schemas.timeseries.FewsTimeSeries o...</td>\n",
       "      <td>51.0</td>\n",
       "      <td>A2</td>\n",
       "      <td>6.0</td>\n",
       "      <td>NaN</td>\n",
       "      <td>test_A2</td>\n",
       "      <td>series</td>\n",
       "      <td>None</td>\n",
       "      <td>test_A2</td>\n",
       "      <td>None</td>\n",
       "      <td>instantaneous</td>\n",
       "      <td>m</td>\n",
       "      <td>200000.0</td>\n",
       "      <td>350000.0</td>\n",
       "    </tr>\n",
       "  </tbody>\n",
       "</table>\n",
       "</div>"
      ],
      "text/plain": [
       "  endDate                                             events   lat locationId  \\\n",
       "0    None  <hkvfewspy.schemas.timeseries.FewsTimeSeries o...  52.0         A1   \n",
       "1    None  <hkvfewspy.schemas.timeseries.FewsTimeSeries o...  51.0         A2   \n",
       "\n",
       "    lon missVal moduleInstanceId parameterId startDate stationName timeStep  \\\n",
       "0  5.00     NaN          test_A1      series      None     test_A1     None   \n",
       "1   6.0     NaN          test_A2      series      None     test_A2     None   \n",
       "\n",
       "            type units         x         y  \n",
       "0  instantaneous     m  200000.0  340000.0  \n",
       "1  instantaneous     m  200000.0  350000.0  "
      ]
     },
     "execution_count": 8,
     "metadata": {},
     "output_type": "execute_result"
    }
   ],
   "source": [
    "fews_ts_collection.timeseries"
   ]
  },
  {
   "cell_type": "markdown",
   "metadata": {},
   "source": [
    "Loop through timeseries to plot"
   ]
  },
  {
   "cell_type": "code",
   "execution_count": 9,
   "metadata": {},
   "outputs": [
    {
     "data": {
      "image/png": "[encoded data removed]",
      "text/plain": [
       "<Figure size 432x288 with 1 Axes>"
      ]
     },
     "metadata": {},
     "output_type": "display_data"
    }
   ],
   "source": [
    "fig, ax = plt.subplots(1, 1)\n",
    "for i in range(fews_ts_collection.timeseries.shape[0]):\n",
    "    series = fews_ts_collection.timeseries.events.iloc[i]\n",
    "    series.plot(y=\"value\", ax=ax, label=series.header[\"stationName\"])\n",
    "    \n",
    "plt.show()"
   ]
  },
  {
   "cell_type": "markdown",
   "metadata": {},
   "source": [
    "Note that the objects stored in the timeseries DataFrame in the events column are actually `FewsTimeSeries` objects. This means that our earlier FewsTimeSeries object should be the same as the first timeseries in our FewsTimeSeriesCollection."
   ]
  },
  {
   "cell_type": "code",
   "execution_count": 10,
   "metadata": {},
   "outputs": [
    {
     "data": {
      "text/plain": [
       "<hkvfewspy.schemas.timeseries.FewsTimeSeries at 0x12860f28>"
      ]
     },
     "execution_count": 10,
     "metadata": {},
     "output_type": "execute_result"
    }
   ],
   "source": [
    "fews_ts_collection.timeseries.events[0]"
   ]
  },
  {
   "cell_type": "markdown",
   "metadata": {},
   "source": [
    "We will now test whether the FewsTimeSeries in the collection is the same as the single timeseries we imported earlier. But first, it is important to realize that when we wrote our earlier `FewsTimeSeries` object `fews_ts` to XML the header (endDate and startDate) were automatically updated from the data. We will do the same for the first timeseries in the `FewsTimeSeriesCollection` object."
   ]
  },
  {
   "cell_type": "code",
   "execution_count": 11,
   "metadata": {},
   "outputs": [],
   "source": [
    "# get start and end date from timeseries and update header\n",
    "fews_ts_collection.timeseries.events[0]._update_header_dates()"
   ]
  },
  {
   "cell_type": "markdown",
   "metadata": {},
   "source": [
    "Now test for equality:"
   ]
  },
  {
   "cell_type": "code",
   "execution_count": 12,
   "metadata": {},
   "outputs": [
    {
     "data": {
      "text/plain": [
       "True"
      ]
     },
     "execution_count": 12,
     "metadata": {},
     "output_type": "execute_result"
    }
   ],
   "source": [
    "fews_ts_collection.timeseries.events[0] == fews_ts"
   ]
  },
  {
   "cell_type": "markdown",
   "metadata": {},
   "source": [
    "It is possible to add data to the collection with the `add_series` method"
   ]
  },
  {
   "cell_type": "code",
   "execution_count": 13,
   "metadata": {},
   "outputs": [
    {
     "name": "stdout",
     "output_type": "stream",
     "text": [
      "Help on method add_series in module hkvfewspy.schemas.timeseries:\n",
      "\n",
      "add_series(dfseries, metadata) method of hkvfewspy.schemas.timeseries.FewsTimeSeriesCollection instance\n",
      "    Add series to PiTimeSeries object.\n",
      "    \n",
      "    Parameters\n",
      "    ----------\n",
      "    dfseries: pd.DataFrame\n",
      "        Timeseries to add, must have DateTimeIndex and have columns with name \"value\" and \"flag\"\n",
      "    \n",
      "    metadata: dict\n",
      "        dictionary containing header. Common entries values for include 'x', 'y', 'lat', lon',\n",
      "        'missVal', 'stationName', 'type', 'units', 'moduleInstanceId', 'qualifierId', 'parameterId',\n",
      "        'locationId'\n",
      "    \n",
      "    Notes\n",
      "    -----\n",
      "    It is unclear whether the entries in header are required or optional.\n",
      "    Some possible values for header entries are shown below\n",
      "    in case they need to be supplied:\n",
      "    - 'missVal': np.nan\n",
      "    - 'stationName': np.nan\n",
      "    - 'units': 'm'\n",
      "    - 'type': 'instantaneous'\n",
      "\n"
     ]
    }
   ],
   "source": [
    "help(fews_ts_collection.add_series)"
   ]
  },
  {
   "cell_type": "markdown",
   "metadata": {},
   "source": [
    "Use data from first timeseries as \"new\" series:"
   ]
  },
  {
   "cell_type": "code",
   "execution_count": 14,
   "metadata": {},
   "outputs": [],
   "source": [
    "new_series = fews_ts.timeseries\n",
    "new_metadata = fews_ts.header"
   ]
  },
  {
   "cell_type": "code",
   "execution_count": 15,
   "metadata": {},
   "outputs": [],
   "source": [
    "fews_ts_collection.add_series(new_series, new_metadata)"
   ]
  },
  {
   "cell_type": "markdown",
   "metadata": {},
   "source": [
    "View our added timeseries in the DataFrame:"
   ]
  },
  {
   "cell_type": "code",
   "execution_count": 16,
   "metadata": {},
   "outputs": [
    {
     "data": {
      "text/html": [
       "<div>\n",
       "<style scoped>\n",
       "    .dataframe tbody tr th:only-of-type {\n",
       "        vertical-align: middle;\n",
       "    }\n",
       "\n",
       "    .dataframe tbody tr th {\n",
       "        vertical-align: top;\n",
       "    }\n",
       "\n",
       "    .dataframe thead th {\n",
       "        text-align: right;\n",
       "    }\n",
       "</style>\n",
       "<table border=\"1\" class=\"dataframe\">\n",
       "  <thead>\n",
       "    <tr style=\"text-align: right;\">\n",
       "      <th></th>\n",
       "      <th>endDate</th>\n",
       "      <th>events</th>\n",
       "      <th>lat</th>\n",
       "      <th>locationId</th>\n",
       "      <th>lon</th>\n",
       "      <th>missVal</th>\n",
       "      <th>moduleInstanceId</th>\n",
       "      <th>parameterId</th>\n",
       "      <th>startDate</th>\n",
       "      <th>stationName</th>\n",
       "      <th>timeStep</th>\n",
       "      <th>type</th>\n",
       "      <th>units</th>\n",
       "      <th>x</th>\n",
       "      <th>y</th>\n",
       "    </tr>\n",
       "  </thead>\n",
       "  <tbody>\n",
       "    <tr>\n",
       "      <th>0</th>\n",
       "      <td>None</td>\n",
       "      <td>&lt;hkvfewspy.schemas.timeseries.FewsTimeSeries o...</td>\n",
       "      <td>52.0</td>\n",
       "      <td>A1</td>\n",
       "      <td>5.00</td>\n",
       "      <td>NaN</td>\n",
       "      <td>test_A1</td>\n",
       "      <td>series</td>\n",
       "      <td>None</td>\n",
       "      <td>test_A1</td>\n",
       "      <td>None</td>\n",
       "      <td>instantaneous</td>\n",
       "      <td>m</td>\n",
       "      <td>200000.0</td>\n",
       "      <td>340000.0</td>\n",
       "    </tr>\n",
       "    <tr>\n",
       "      <th>1</th>\n",
       "      <td>None</td>\n",
       "      <td>&lt;hkvfewspy.schemas.timeseries.FewsTimeSeries o...</td>\n",
       "      <td>51.0</td>\n",
       "      <td>A2</td>\n",
       "      <td>6.0</td>\n",
       "      <td>NaN</td>\n",
       "      <td>test_A2</td>\n",
       "      <td>series</td>\n",
       "      <td>None</td>\n",
       "      <td>test_A2</td>\n",
       "      <td>None</td>\n",
       "      <td>instantaneous</td>\n",
       "      <td>m</td>\n",
       "      <td>200000.0</td>\n",
       "      <td>350000.0</td>\n",
       "    </tr>\n",
       "    <tr>\n",
       "      <th>2</th>\n",
       "      <td>2018-07-27 01:00:00</td>\n",
       "      <td>&lt;hkvfewspy.schemas.timeseries.FewsTimeSeries o...</td>\n",
       "      <td>52.0</td>\n",
       "      <td>A1</td>\n",
       "      <td>5.00</td>\n",
       "      <td>NaN</td>\n",
       "      <td>test_A1</td>\n",
       "      <td>series</td>\n",
       "      <td>2000-01-17 00:00:00</td>\n",
       "      <td>test_A1</td>\n",
       "      <td>None</td>\n",
       "      <td>instantaneous</td>\n",
       "      <td>m</td>\n",
       "      <td>200000.0</td>\n",
       "      <td>340000.0</td>\n",
       "    </tr>\n",
       "  </tbody>\n",
       "</table>\n",
       "</div>"
      ],
      "text/plain": [
       "               endDate                                             events  \\\n",
       "0                 None  <hkvfewspy.schemas.timeseries.FewsTimeSeries o...   \n",
       "1                 None  <hkvfewspy.schemas.timeseries.FewsTimeSeries o...   \n",
       "2  2018-07-27 01:00:00  <hkvfewspy.schemas.timeseries.FewsTimeSeries o...   \n",
       "\n",
       "    lat locationId   lon missVal moduleInstanceId parameterId  \\\n",
       "0  52.0         A1  5.00     NaN          test_A1      series   \n",
       "1  51.0         A2   6.0     NaN          test_A2      series   \n",
       "2  52.0         A1  5.00     NaN          test_A1      series   \n",
       "\n",
       "             startDate stationName timeStep           type units         x  \\\n",
       "0                 None     test_A1     None  instantaneous     m  200000.0   \n",
       "1                 None     test_A2     None  instantaneous     m  200000.0   \n",
       "2  2000-01-17 00:00:00     test_A1     None  instantaneous     m  200000.0   \n",
       "\n",
       "          y  \n",
       "0  340000.0  \n",
       "1  350000.0  \n",
       "2  340000.0  "
      ]
     },
     "execution_count": 16,
     "metadata": {},
     "output_type": "execute_result"
    }
   ],
   "source": [
    "fews_ts_collection.timeseries"
   ]
  },
  {
   "cell_type": "markdown",
   "metadata": {},
   "source": [
    "We can write the FewsTimeSeriesCollection to file with the same command as before:"
   ]
  },
  {
   "cell_type": "code",
   "execution_count": 17,
   "metadata": {},
   "outputs": [],
   "source": [
    "fews_ts_collection.to_pi_xml(\"./temp_3series.xml\")"
   ]
  },
  {
   "cell_type": "markdown",
   "metadata": {},
   "source": [
    "## Querying a FEWS database and returning FewsTimeSeries objects"
   ]
  },
  {
   "cell_type": "code",
   "execution_count": 17,
   "metadata": {},
   "outputs": [],
   "source": [
    "# set client\n",
    "pi = fewspy.pi\n",
    "pi.setClient(wsdl='http://localhost:8081/FewsPiService/fewspiservice?wsdl') "
   ]
  },
  {
   "cell_type": "code",
   "execution_count": 18,
   "metadata": {},
   "outputs": [],
   "source": [
    "query = pi.setQueryParameters(prefill_defaults=True)"
   ]
  },
  {
   "cell_type": "code",
   "execution_count": 31,
   "metadata": {},
   "outputs": [],
   "source": [
    "query.parameterIds(['P.meting.dagcal'])\n",
    "query.moduleInstanceIds(['ImportCAW'])\n",
    "query.locationIds(['66011cal'])\n",
    "query.startTime(pd.datetime(2010,1,1))\n",
    "query.endTime(pd.datetime(2018,7,1))\n",
    "query.clientTimeZone('Europe/Amsterdam')\n",
    "query.query[\"onlyManualEdits\"] = False"
   ]
  },
  {
   "cell_type": "code",
   "execution_count": 32,
   "metadata": {},
   "outputs": [
    {
     "data": {
      "text/plain": [
       "{'convertDatum': False,\n",
       " 'forecastSearchCount': 0,\n",
       " 'importFromExternalDataSource': False,\n",
       " 'omitMissing': False,\n",
       " 'onlyHeaders': False,\n",
       " 'showEnsembleMemberIds': False,\n",
       " 'showStatistics': False,\n",
       " 'showThresholds': False,\n",
       " 'useDisplayUnits': True,\n",
       " 'version': '1.22',\n",
       " 'parameterIds': ['P.meting.dagcal'],\n",
       " 'moduleInstanceIds': ['ImportCAW'],\n",
       " 'locationIds': ['66011cal'],\n",
       " 'startTime': datetime.datetime(2010, 1, 1, 0, 0),\n",
       " 'endTime': datetime.datetime(2018, 7, 1, 0, 0),\n",
       " 'clientTimeZone': 'Europe/Amsterdam',\n",
       " 'onlyManualEdits': False}"
      ]
     },
     "execution_count": 32,
     "metadata": {},
     "output_type": "execute_result"
    }
   ],
   "source": [
    "query.query"
   ]
  },
  {
   "cell_type": "code",
   "execution_count": 33,
   "metadata": {},
   "outputs": [],
   "source": [
    "fews_ts2_coll = pi.getFewsTimeSeries(queryParameters=query)"
   ]
  },
  {
   "cell_type": "code",
   "execution_count": 34,
   "metadata": {},
   "outputs": [
    {
     "data": {
      "text/plain": [
       "<hkvfewspy.timeseries.FewsTimeSeriesCollection at 0x1fbef8b9ba8>"
      ]
     },
     "execution_count": 34,
     "metadata": {},
     "output_type": "execute_result"
    }
   ],
   "source": [
    "fews_ts2_coll"
   ]
  },
  {
   "cell_type": "code",
   "execution_count": 46,
   "metadata": {},
   "outputs": [
    {
     "data": {
      "text/html": [
       "<div>\n",
       "<style scoped>\n",
       "    .dataframe tbody tr th:only-of-type {\n",
       "        vertical-align: middle;\n",
       "    }\n",
       "\n",
       "    .dataframe tbody tr th {\n",
       "        vertical-align: top;\n",
       "    }\n",
       "\n",
       "    .dataframe thead th {\n",
       "        text-align: right;\n",
       "    }\n",
       "</style>\n",
       "<table border=\"1\" class=\"dataframe\">\n",
       "  <thead>\n",
       "    <tr style=\"text-align: right;\">\n",
       "      <th></th>\n",
       "      <th>endDate</th>\n",
       "      <th>events</th>\n",
       "      <th>lat</th>\n",
       "      <th>locationId</th>\n",
       "      <th>lon</th>\n",
       "      <th>missVal</th>\n",
       "      <th>moduleInstanceId</th>\n",
       "      <th>parameterId</th>\n",
       "      <th>startDate</th>\n",
       "      <th>stationName</th>\n",
       "      <th>timeStep</th>\n",
       "      <th>type</th>\n",
       "      <th>units</th>\n",
       "      <th>x</th>\n",
       "      <th>y</th>\n",
       "    </tr>\n",
       "  </thead>\n",
       "  <tbody>\n",
       "    <tr>\n",
       "      <th>0</th>\n",
       "      <td>None</td>\n",
       "      <td>&lt;hkvfewspy.timeseries.FewsTimeSeries object at...</td>\n",
       "      <td>52.21196741287045</td>\n",
       "      <td>66011cal</td>\n",
       "      <td>5.04227195598427</td>\n",
       "      <td>-999.0</td>\n",
       "      <td>ImportCAW</td>\n",
       "      <td>P.meting.dagcal</td>\n",
       "      <td>None</td>\n",
       "      <td>KNMI Loenen aan de vecht</td>\n",
       "      <td>None</td>\n",
       "      <td>accumulative</td>\n",
       "      <td>mm</td>\n",
       "      <td>131425.0</td>\n",
       "      <td>469375.0</td>\n",
       "    </tr>\n",
       "  </tbody>\n",
       "</table>\n",
       "</div>"
      ],
      "text/plain": [
       "  endDate                                             events  \\\n",
       "0    None  <hkvfewspy.timeseries.FewsTimeSeries object at...   \n",
       "\n",
       "                 lat locationId               lon missVal moduleInstanceId  \\\n",
       "0  52.21196741287045   66011cal  5.04227195598427  -999.0        ImportCAW   \n",
       "\n",
       "       parameterId startDate               stationName timeStep          type  \\\n",
       "0  P.meting.dagcal      None  KNMI Loenen aan de vecht     None  accumulative   \n",
       "\n",
       "  units         x         y  \n",
       "0    mm  131425.0  469375.0  "
      ]
     },
     "execution_count": 46,
     "metadata": {},
     "output_type": "execute_result"
    }
   ],
   "source": [
    "fews_ts2_coll.timeseries"
   ]
  },
  {
   "cell_type": "markdown",
   "metadata": {},
   "source": [
    "We queried specifically to get one timeseries, so extract FewsTimeSeries object from the collection:"
   ]
  },
  {
   "cell_type": "code",
   "execution_count": 40,
   "metadata": {},
   "outputs": [],
   "source": [
    "fews_ts2 = fews_ts2_coll.timeseries.events[0]"
   ]
  },
  {
   "cell_type": "code",
   "execution_count": 42,
   "metadata": {},
   "outputs": [
    {
     "data": {
      "text/plain": [
       "{'type': 'accumulative',\n",
       " 'moduleInstanceId': 'ImportCAW',\n",
       " 'locationId': '66011cal',\n",
       " 'parameterId': 'P.meting.dagcal',\n",
       " 'timeStep': None,\n",
       " 'startDate': None,\n",
       " 'endDate': None,\n",
       " 'missVal': '-999.0',\n",
       " 'stationName': 'KNMI Loenen aan de vecht',\n",
       " 'lat': '52.21196741287045',\n",
       " 'lon': '5.04227195598427',\n",
       " 'x': '131425.0',\n",
       " 'y': '469375.0',\n",
       " 'units': 'mm'}"
      ]
     },
     "execution_count": 42,
     "metadata": {},
     "output_type": "execute_result"
    }
   ],
   "source": [
    "fews_ts2.header"
   ]
  },
  {
   "cell_type": "code",
   "execution_count": 44,
   "metadata": {},
   "outputs": [
    {
     "data": {
      "text/html": [
       "<div>\n",
       "<style scoped>\n",
       "    .dataframe tbody tr th:only-of-type {\n",
       "        vertical-align: middle;\n",
       "    }\n",
       "\n",
       "    .dataframe tbody tr th {\n",
       "        vertical-align: top;\n",
       "    }\n",
       "\n",
       "    .dataframe thead th {\n",
       "        text-align: right;\n",
       "    }\n",
       "</style>\n",
       "<table border=\"1\" class=\"dataframe\">\n",
       "  <thead>\n",
       "    <tr style=\"text-align: right;\">\n",
       "      <th></th>\n",
       "      <th>flag</th>\n",
       "      <th>value</th>\n",
       "    </tr>\n",
       "  </thead>\n",
       "  <tbody>\n",
       "    <tr>\n",
       "      <th>2009-12-31 09:00:00</th>\n",
       "      <td>8.0</td>\n",
       "      <td>-999.0</td>\n",
       "    </tr>\n",
       "    <tr>\n",
       "      <th>2010-01-01 09:00:00</th>\n",
       "      <td>8.0</td>\n",
       "      <td>-999.0</td>\n",
       "    </tr>\n",
       "    <tr>\n",
       "      <th>2010-01-02 09:00:00</th>\n",
       "      <td>8.0</td>\n",
       "      <td>-999.0</td>\n",
       "    </tr>\n",
       "    <tr>\n",
       "      <th>2010-01-03 09:00:00</th>\n",
       "      <td>8.0</td>\n",
       "      <td>-999.0</td>\n",
       "    </tr>\n",
       "    <tr>\n",
       "      <th>2010-01-04 09:00:00</th>\n",
       "      <td>8.0</td>\n",
       "      <td>-999.0</td>\n",
       "    </tr>\n",
       "  </tbody>\n",
       "</table>\n",
       "</div>"
      ],
      "text/plain": [
       "                     flag  value\n",
       "2009-12-31 09:00:00   8.0 -999.0\n",
       "2010-01-01 09:00:00   8.0 -999.0\n",
       "2010-01-02 09:00:00   8.0 -999.0\n",
       "2010-01-03 09:00:00   8.0 -999.0\n",
       "2010-01-04 09:00:00   8.0 -999.0"
      ]
     },
     "execution_count": 44,
     "metadata": {},
     "output_type": "execute_result"
    }
   ],
   "source": [
    "fews_ts2.timeseries.head()"
   ]
  },
  {
   "cell_type": "code",
   "execution_count": 45,
   "metadata": {},
   "outputs": [
    {
     "data": {
      "image/png": "[encoded data removed]",
      "text/plain": [
       "<Figure size 432x288 with 1 Axes>"
      ]
     },
     "metadata": {},
     "output_type": "display_data"
    }
   ],
   "source": [
    "fews_ts2.plot(y=\"value\")"
   ]
  },
  {
   "cell_type": "code",
   "execution_count": null,
   "metadata": {},
   "outputs": [],
   "source": []
  }
 ],
 "metadata": {
  "kernelspec": {
   "display_name": "Python 3",
   "language": "python",
   "name": "python3"
  },
  "language_info": {
   "codemirror_mode": {
    "name": "ipython",
    "version": 3
   },
   "file_extension": ".py",
   "mimetype": "text/x-python",
   "name": "python",
   "nbconvert_exporter": "python",
   "pygments_lexer": "ipython3",
   "version": "3.6.5"
  }
 },
 "nbformat": 4,
 "nbformat_minor": 2
}
