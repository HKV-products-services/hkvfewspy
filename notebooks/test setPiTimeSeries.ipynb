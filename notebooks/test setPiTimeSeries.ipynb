{
 "cells": [
  {
   "cell_type": "code",
   "execution_count": 1,
   "metadata": {},
   "outputs": [
    {
     "data": {
      "text/plain": [
       "'0.5.9'"
      ]
     },
     "execution_count": 1,
     "metadata": {},
     "output_type": "execute_result"
    }
   ],
   "source": [
    "import hkvfewspy as hkv\n",
    "import pandas as pd\n",
    "hkv.__version__"
   ]
  },
  {
   "cell_type": "code",
   "execution_count": 2,
   "metadata": {},
   "outputs": [],
   "source": [
    "s = pd.Series(data=pd.np.random.randn(5), \n",
    "              index=pd.date_range(start='2018-01-01', periods=5, freq='D'),\n",
    "              name='value')\n",
    "\n",
    "df = pd.DataFrame(data=pd.np.random.randint(0, 100, size=(5,2)), \n",
    "                  index=pd.date_range(start='2018-01-01', periods=5, freq='D'),\n",
    "                  columns=['value', 'flag'])"
   ]
  },
  {
   "cell_type": "code",
   "execution_count": 3,
   "metadata": {},
   "outputs": [
    {
     "data": {
      "text/plain": [
       "2018-01-01   -0.325379\n",
       "2018-01-02   -0.261394\n",
       "2018-01-03   -0.409288\n",
       "2018-01-04   -0.002793\n",
       "2018-01-05   -0.272561\n",
       "Freq: D, Name: value, dtype: float64"
      ]
     },
     "execution_count": 3,
     "metadata": {},
     "output_type": "execute_result"
    }
   ],
   "source": [
    "s.head()"
   ]
  },
  {
   "cell_type": "code",
   "execution_count": 4,
   "metadata": {},
   "outputs": [
    {
     "data": {
      "text/html": [
       "<div>\n",
       "<style scoped>\n",
       "    .dataframe tbody tr th:only-of-type {\n",
       "        vertical-align: middle;\n",
       "    }\n",
       "\n",
       "    .dataframe tbody tr th {\n",
       "        vertical-align: top;\n",
       "    }\n",
       "\n",
       "    .dataframe thead th {\n",
       "        text-align: right;\n",
       "    }\n",
       "</style>\n",
       "<table border=\"1\" class=\"dataframe\">\n",
       "  <thead>\n",
       "    <tr style=\"text-align: right;\">\n",
       "      <th></th>\n",
       "      <th>value</th>\n",
       "      <th>flag</th>\n",
       "    </tr>\n",
       "  </thead>\n",
       "  <tbody>\n",
       "    <tr>\n",
       "      <th>2018-01-01</th>\n",
       "      <td>5</td>\n",
       "      <td>91</td>\n",
       "    </tr>\n",
       "    <tr>\n",
       "      <th>2018-01-02</th>\n",
       "      <td>35</td>\n",
       "      <td>95</td>\n",
       "    </tr>\n",
       "    <tr>\n",
       "      <th>2018-01-03</th>\n",
       "      <td>52</td>\n",
       "      <td>75</td>\n",
       "    </tr>\n",
       "    <tr>\n",
       "      <th>2018-01-04</th>\n",
       "      <td>77</td>\n",
       "      <td>81</td>\n",
       "    </tr>\n",
       "    <tr>\n",
       "      <th>2018-01-05</th>\n",
       "      <td>88</td>\n",
       "      <td>8</td>\n",
       "    </tr>\n",
       "  </tbody>\n",
       "</table>\n",
       "</div>"
      ],
      "text/plain": [
       "            value  flag\n",
       "2018-01-01      5    91\n",
       "2018-01-02     35    95\n",
       "2018-01-03     52    75\n",
       "2018-01-04     77    81\n",
       "2018-01-05     88     8"
      ]
     },
     "execution_count": 4,
     "metadata": {},
     "output_type": "execute_result"
    }
   ],
   "source": [
    "df.head()"
   ]
  },
  {
   "cell_type": "code",
   "execution_count": 5,
   "metadata": {},
   "outputs": [],
   "source": [
    "# define object\n",
    "pi = hkv.pi"
   ]
  },
  {
   "cell_type": "code",
   "execution_count": 6,
   "metadata": {},
   "outputs": [],
   "source": [
    "# create empty PI-TimeSeries object\n",
    "series = pi.setPiTimeSeries()"
   ]
  },
  {
   "cell_type": "code",
   "execution_count": 7,
   "metadata": {},
   "outputs": [],
   "source": [
    "# set two root objects\n",
    "series.root.timeZone('gmt')\n",
    "series.root.version('1.22')\n",
    "\n",
    "# set a header comment\n",
    "series.header.comment('this is an comment')\n",
    "series.header.locationId('my_little_locationID')"
   ]
  },
  {
   "cell_type": "code",
   "execution_count": 8,
   "metadata": {},
   "outputs": [],
   "source": [
    "# parse pandas.Series as events\n",
    "series.events(s)"
   ]
  },
  {
   "cell_type": "code",
   "execution_count": 9,
   "metadata": {},
   "outputs": [
    {
     "data": {
      "text/plain": [
       "{'timeZone': 'gmt',\n",
       " 'version': '1.22',\n",
       " 'timeSeries': [{'header': {'comment': 'this is an comment',\n",
       "    'locationId': 'my_little_locationID'},\n",
       "   'events': '[{\"date\":\"2018-01-01\",\"value\":-0.3253788795,\"time\":\"00:00:00\"},{\"date\":\"2018-01-02\",\"value\":-0.2613939773,\"time\":\"00:00:00\"},{\"date\":\"2018-01-03\",\"value\":-0.40928824,\"time\":\"00:00:00\"},{\"date\":\"2018-01-04\",\"value\":-0.0027934986,\"time\":\"00:00:00\"},{\"date\":\"2018-01-05\",\"value\":-0.2725607011,\"time\":\"00:00:00\"}]'}]}"
      ]
     },
     "execution_count": 9,
     "metadata": {},
     "output_type": "execute_result"
    }
   ],
   "source": [
    "# show resulted PI-JSON object\n",
    "series._pi_json"
   ]
  },
  {
   "cell_type": "code",
   "execution_count": 10,
   "metadata": {},
   "outputs": [],
   "source": [
    "# parse pandas.DataFrame as events\n",
    "series.events(df)"
   ]
  },
  {
   "cell_type": "code",
   "execution_count": 11,
   "metadata": {},
   "outputs": [
    {
     "data": {
      "text/plain": [
       "{'timeZone': 'gmt',\n",
       " 'version': '1.22',\n",
       " 'timeSeries': [{'header': {'comment': 'this is an comment',\n",
       "    'locationId': 'my_little_locationID'},\n",
       "   'events': '[{\"flag\":91,\"date\":\"2018-01-01\",\"value\":5,\"time\":\"00:00:00\"},{\"flag\":95,\"date\":\"2018-01-02\",\"value\":35,\"time\":\"00:00:00\"},{\"flag\":75,\"date\":\"2018-01-03\",\"value\":52,\"time\":\"00:00:00\"},{\"flag\":81,\"date\":\"2018-01-04\",\"value\":77,\"time\":\"00:00:00\"},{\"flag\":8,\"date\":\"2018-01-05\",\"value\":88,\"time\":\"00:00:00\"}]'}]}"
      ]
     },
     "execution_count": 11,
     "metadata": {},
     "output_type": "execute_result"
    }
   ],
   "source": [
    "# show resulted PI-JSON object\n",
    "series._pi_json"
   ]
  },
  {
   "cell_type": "code",
   "execution_count": null,
   "metadata": {},
   "outputs": [],
   "source": []
  }
 ],
 "metadata": {
  "kernelspec": {
   "display_name": "Python 3",
   "language": "python",
   "name": "python3"
  },
  "language_info": {
   "codemirror_mode": {
    "name": "ipython",
    "version": 3
   },
   "file_extension": ".py",
   "mimetype": "text/x-python",
   "name": "python",
   "nbconvert_exporter": "python",
   "pygments_lexer": "ipython3",
   "version": "3.7.0"
  }
 },
 "nbformat": 4,
 "nbformat_minor": 2
}
