{
 "cells": [
  {
   "cell_type": "code",
   "execution_count": 1,
   "metadata": {},
   "outputs": [
    {
     "data": {
      "text/plain": [
       "'0.6.0'"
      ]
     },
     "execution_count": 1,
     "metadata": {},
     "output_type": "execute_result"
    }
   ],
   "source": [
    "import hkvfewspy as hkv\n",
    "import pandas as pd\n",
    "%matplotlib inline\n",
    "hkv.__version__"
   ]
  },
  {
   "cell_type": "code",
   "execution_count": 2,
   "metadata": {},
   "outputs": [],
   "source": [
    "# define object\n",
    "pi = hkv.Pi()"
   ]
  },
  {
   "cell_type": "code",
   "execution_count": 3,
   "metadata": {},
   "outputs": [],
   "source": [
    "# create empty PI-TimeSeries object\n",
    "pi_ts = pi.setPiTimeSeries(prefill_defaults=False)"
   ]
  },
  {
   "cell_type": "code",
   "execution_count": 4,
   "metadata": {},
   "outputs": [],
   "source": [
    "s = pd.Series(data=pd.np.random.randint(0,100, size=(5)), \n",
    "              index=pd.date_range(start='2018-01-01', periods=5, freq='D'),\n",
    "              name='value')"
   ]
  },
  {
   "cell_type": "code",
   "execution_count": 5,
   "metadata": {},
   "outputs": [
    {
     "data": {
      "text/plain": [
       "2018-01-01    78\n",
       "2018-01-02    49\n",
       "2018-01-03    21\n",
       "2018-01-04    93\n",
       "2018-01-05    21\n",
       "Freq: D, Name: value, dtype: int32"
      ]
     },
     "execution_count": 5,
     "metadata": {},
     "output_type": "execute_result"
    }
   ],
   "source": [
    "s.head()"
   ]
  },
  {
   "cell_type": "code",
   "execution_count": 6,
   "metadata": {},
   "outputs": [],
   "source": [
    "# set two root objects\n",
    "pi_ts.write.root.timeZone('gmt')\n",
    "pi_ts.write.root.version('1.22')\n",
    "pi_ts.write.root.geoDatum('WGS 1984')\n",
    "\n",
    "# set comment\n",
    "pi_ts.write.comment('this is an comment')\n",
    "\n",
    "# set a header object\n",
    "pi_ts.write.header.timeSeriesType(\"instantaneous\")\n",
    "pi_ts.write.header.moduleInstanceId('my_little_moduleinstanceID')\n",
    "pi_ts.write.header.locationId('my_little_locationID')\n",
    "pi_ts.write.header.parameterId('my_little_parameterID')\n",
    "pi_ts.write.header.timeStep(unit=\"day\")\n",
    "pi_ts.write.header.startDate(date='2018-01-01', time='00:00:00')\n",
    "pi_ts.write.header.endDate(date='2018-01-05', time='00:00:00')\n",
    "pi_ts.write.header.missVal(pd.np.nan)\n",
    "pi_ts.write.header.longName('my_longname_locationID')\n",
    "pi_ts.write.header.units('m/3')\n",
    "\n",
    "# set a events object (pandas.Series or pandas.DataFrame)\n",
    "pi_ts.write.events(s)"
   ]
  },
  {
   "cell_type": "code",
   "execution_count": 7,
   "metadata": {},
   "outputs": [
    {
     "data": {
      "text/plain": [
       "{'timeZone': 'gmt',\n",
       " 'version': '1.22',\n",
       " 'geoDatum': 'WGS 1984',\n",
       " 'timeSeries': [{'comment': 'this is an comment',\n",
       "   'header': {'type': 'instantaneous',\n",
       "    'moduleInstanceId': 'my_little_moduleinstanceID',\n",
       "    'locationId': 'my_little_locationID',\n",
       "    'parameterId': 'my_little_parameterID',\n",
       "    'timeStep': {'unit': 'day', 'divider': 1, 'multiplier': 1},\n",
       "    'startDate': {'date': '2018-01-01', 'time': '00:00:00'},\n",
       "    'endDate': {'date': '2018-01-05', 'time': '00:00:00'},\n",
       "    'missVal': nan,\n",
       "    'longName': 'my_longname_locationID',\n",
       "    'units': 'm/3'},\n",
       "   'events':             value\n",
       "   datetime         \n",
       "   2018-01-01     78\n",
       "   2018-01-02     49\n",
       "   2018-01-03     21\n",
       "   2018-01-04     93\n",
       "   2018-01-05     21}]}"
      ]
     },
     "execution_count": 7,
     "metadata": {},
     "output_type": "execute_result"
    }
   ],
   "source": [
    "pi_ts.view"
   ]
  },
  {
   "cell_type": "code",
   "execution_count": 8,
   "metadata": {},
   "outputs": [
    {
     "data": {
      "text/html": [
       "<div>\n",
       "<style scoped>\n",
       "    .dataframe tbody tr th:only-of-type {\n",
       "        vertical-align: middle;\n",
       "    }\n",
       "\n",
       "    .dataframe tbody tr th {\n",
       "        vertical-align: top;\n",
       "    }\n",
       "\n",
       "    .dataframe thead th {\n",
       "        text-align: right;\n",
       "    }\n",
       "</style>\n",
       "<table border=\"1\" class=\"dataframe\">\n",
       "  <thead>\n",
       "    <tr style=\"text-align: right;\">\n",
       "      <th></th>\n",
       "      <th>value</th>\n",
       "    </tr>\n",
       "    <tr>\n",
       "      <th>datetime</th>\n",
       "      <th></th>\n",
       "    </tr>\n",
       "  </thead>\n",
       "  <tbody>\n",
       "    <tr>\n",
       "      <th>2018-01-01</th>\n",
       "      <td>78</td>\n",
       "    </tr>\n",
       "    <tr>\n",
       "      <th>2018-01-02</th>\n",
       "      <td>49</td>\n",
       "    </tr>\n",
       "    <tr>\n",
       "      <th>2018-01-03</th>\n",
       "      <td>21</td>\n",
       "    </tr>\n",
       "    <tr>\n",
       "      <th>2018-01-04</th>\n",
       "      <td>93</td>\n",
       "    </tr>\n",
       "    <tr>\n",
       "      <th>2018-01-05</th>\n",
       "      <td>21</td>\n",
       "    </tr>\n",
       "  </tbody>\n",
       "</table>\n",
       "</div>"
      ],
      "text/plain": [
       "            value\n",
       "datetime         \n",
       "2018-01-01     78\n",
       "2018-01-02     49\n",
       "2018-01-03     21\n",
       "2018-01-04     93\n",
       "2018-01-05     21"
      ]
     },
     "execution_count": 8,
     "metadata": {},
     "output_type": "execute_result"
    }
   ],
   "source": [
    "pi_ts.view['timeSeries'][0]['events'].head() # pandas.DataFrame"
   ]
  },
  {
   "cell_type": "code",
   "execution_count": 9,
   "metadata": {},
   "outputs": [
    {
     "data": {
      "text/plain": [
       "<matplotlib.axes._subplots.AxesSubplot at 0x99519b0>"
      ]
     },
     "execution_count": 9,
     "metadata": {},
     "output_type": "execute_result"
    },
    {
     "data": {
      "image/png": "[encoded data removed]",
      "text/plain": [
       "<Figure size 432x288 with 1 Axes>"
      ]
     },
     "metadata": {},
     "output_type": "display_data"
    }
   ],
   "source": [
    "pi_ts.view['timeSeries'][0]['events'].plot()"
   ]
  },
  {
   "cell_type": "code",
   "execution_count": 10,
   "metadata": {},
   "outputs": [
    {
     "name": "stdout",
     "output_type": "stream",
     "text": [
      "{\n",
      "    \"geoDatum\": \"WGS 1984\",\n",
      "    \"timeSeries\": [\n",
      "        {\n",
      "            \"comment\": \"this is an comment\",\n",
      "            \"events\": [\n",
      "                {\n",
      "                    \"date\": \"2018-01-01\",\n",
      "                    \"time\": \"00:00:00\",\n",
      "                    \"value\": 78\n",
      "                },\n",
      "                {\n",
      "                    \"date\": \"2018-01-02\",\n",
      "                    \"time\": \"00:00:00\",\n",
      "                    \"value\": 49\n",
      "                },\n",
      "                {\n",
      "                    \"date\": \"2018-01-03\",\n",
      "                    \"time\": \"00:00:00\",\n",
      "                    \"value\": 21\n",
      "                },\n",
      "                {\n",
      "                    \"date\": \"2018-01-04\",\n",
      "                    \"time\": \"00:00:00\",\n",
      "                    \"value\": 93\n",
      "                },\n",
      "                {\n",
      "                    \"date\": \"2018-01-05\",\n",
      "                    \"time\": \"00:00:00\",\n",
      "                    \"value\": 21\n",
      "                }\n",
      "            ],\n",
      "            \"header\": {\n",
      "                \"endDate\": {\n",
      "                    \"date\": \"2018-01-05\",\n",
      "                    \"time\": \"00:00:00\"\n",
      "                },\n",
      "                \"locationId\": \"my_little_locationID\",\n",
      "                \"longName\": \"my_longname_locationID\",\n",
      "                \"missVal\": NaN,\n",
      "                \"moduleInstanceId\": \"my_little_moduleinstanceID\",\n",
      "                \"parameterId\": \"my_little_parameterID\",\n",
      "                \"startDate\": {\n",
      "                    \"date\": \"2018-01-01\",\n",
      "                    \"time\": \"00:00:00\"\n",
      "                },\n",
      "                \"timeStep\": {\n",
      "                    \"divider\": 1,\n",
      "                    \"multiplier\": 1,\n",
      "                    \"unit\": \"day\"\n",
      "                },\n",
      "                \"type\": \"instantaneous\",\n",
      "                \"units\": \"m/3\"\n",
      "            }\n",
      "        }\n",
      "    ],\n",
      "    \"timeZone\": \"gmt\",\n",
      "    \"version\": \"1.22\"\n",
      "}\n"
     ]
    }
   ],
   "source": [
    "# show resulted PI-JSON object\n",
    "print(pi_ts.to.pi_json())"
   ]
  },
  {
   "cell_type": "code",
   "execution_count": 11,
   "metadata": {},
   "outputs": [
    {
     "name": "stdout",
     "output_type": "stream",
     "text": [
      "<?xml version=\"1.0\" ?>\n",
      "<TimeSeries version=\"1.22\" xmlns=\"http://www.wldelft.nl/fews/PI\" xmlns:xsi=\"http://www.w3.org/2001/XMLSchema-instance\" xsi:schemaLocation=\"http://www.wldelft.nl/fews/PI http://fews.wldelft.nl/schemas/version1.0/pi-schemas/pi_timeseries.xsd\">\n",
      "  <timeZone>gmt</timeZone>\n",
      "  <geoDatum>WGS 1984</geoDatum>\n",
      "  <series>\n",
      "    <comment>this is an comment</comment>\n",
      "    <header>\n",
      "      <type>instantaneous</type>\n",
      "      <moduleInstanceId>my_little_moduleinstanceID</moduleInstanceId>\n",
      "      <locationId>my_little_locationID</locationId>\n",
      "      <parameterId>my_little_parameterID</parameterId>\n",
      "      <timeStep date=\"day\" divider=\"1\"/>\n",
      "      <startDate date=\"2018-01-01\" time=\"00:00:00\"/>\n",
      "      <endDate date=\"2018-01-05\" time=\"00:00:00\"/>\n",
      "      <missVal>nan</missVal>\n",
      "      <longName>my_longname_locationID</longName>\n",
      "      <units>m/3</units>\n",
      "    </header>\n",
      "    <properties/>\n",
      "    <events date=\"2018-01-01\" time=\"00:00:00\" value=\"78\"/>\n",
      "    <events date=\"2018-01-02\" time=\"00:00:00\" value=\"49\"/>\n",
      "    <events date=\"2018-01-03\" time=\"00:00:00\" value=\"21\"/>\n",
      "    <events date=\"2018-01-04\" time=\"00:00:00\" value=\"93\"/>\n",
      "    <events date=\"2018-01-05\" time=\"00:00:00\" value=\"21\"/>\n",
      "  </series>\n",
      "</TimeSeries>\n",
      "\n"
     ]
    }
   ],
   "source": [
    "# show resulted PI-XML object\n",
    "print(pi_ts.to.pi_xml())"
   ]
  },
  {
   "cell_type": "code",
   "execution_count": 12,
   "metadata": {},
   "outputs": [],
   "source": [
    "# write pandas.DataFrame\n",
    "df = pd.DataFrame(data=pd.np.random.randint(0, 100, size=(5,3)), \n",
    "                  index=pd.date_range(start='2018-01-01', periods=5, freq='D'),\n",
    "                  columns=['value', 'flag', 'invalid_column_name'])"
   ]
  },
  {
   "cell_type": "code",
   "execution_count": 13,
   "metadata": {},
   "outputs": [
    {
     "data": {
      "text/html": [
       "<div>\n",
       "<style scoped>\n",
       "    .dataframe tbody tr th:only-of-type {\n",
       "        vertical-align: middle;\n",
       "    }\n",
       "\n",
       "    .dataframe tbody tr th {\n",
       "        vertical-align: top;\n",
       "    }\n",
       "\n",
       "    .dataframe thead th {\n",
       "        text-align: right;\n",
       "    }\n",
       "</style>\n",
       "<table border=\"1\" class=\"dataframe\">\n",
       "  <thead>\n",
       "    <tr style=\"text-align: right;\">\n",
       "      <th></th>\n",
       "      <th>value</th>\n",
       "      <th>flag</th>\n",
       "      <th>invalid_column_name</th>\n",
       "    </tr>\n",
       "  </thead>\n",
       "  <tbody>\n",
       "    <tr>\n",
       "      <th>2018-01-01</th>\n",
       "      <td>95</td>\n",
       "      <td>16</td>\n",
       "      <td>8</td>\n",
       "    </tr>\n",
       "    <tr>\n",
       "      <th>2018-01-02</th>\n",
       "      <td>18</td>\n",
       "      <td>4</td>\n",
       "      <td>63</td>\n",
       "    </tr>\n",
       "    <tr>\n",
       "      <th>2018-01-03</th>\n",
       "      <td>93</td>\n",
       "      <td>21</td>\n",
       "      <td>86</td>\n",
       "    </tr>\n",
       "    <tr>\n",
       "      <th>2018-01-04</th>\n",
       "      <td>71</td>\n",
       "      <td>88</td>\n",
       "      <td>0</td>\n",
       "    </tr>\n",
       "    <tr>\n",
       "      <th>2018-01-05</th>\n",
       "      <td>47</td>\n",
       "      <td>23</td>\n",
       "      <td>96</td>\n",
       "    </tr>\n",
       "  </tbody>\n",
       "</table>\n",
       "</div>"
      ],
      "text/plain": [
       "            value  flag  invalid_column_name\n",
       "2018-01-01     95    16                    8\n",
       "2018-01-02     18     4                   63\n",
       "2018-01-03     93    21                   86\n",
       "2018-01-04     71    88                    0\n",
       "2018-01-05     47    23                   96"
      ]
     },
     "execution_count": 13,
     "metadata": {},
     "output_type": "execute_result"
    }
   ],
   "source": [
    "df.head()"
   ]
  },
  {
   "cell_type": "code",
   "execution_count": 14,
   "metadata": {},
   "outputs": [
    {
     "name": "stderr",
     "output_type": "stream",
     "text": [
      "WARNING:root: The following column names are ignored: 'invalid_column_name'. \n",
      " Only the following column names are accepted: 'value', 'minValue', 'maxValue', 'flag', 'flagSource', 'comment', 'user''\n"
     ]
    }
   ],
   "source": [
    "# parse pandas.DataFrame as events\n",
    "pi_ts.write.events(df)"
   ]
  },
  {
   "cell_type": "code",
   "execution_count": 15,
   "metadata": {},
   "outputs": [
    {
     "data": {
      "text/plain": [
       "<matplotlib.axes._subplots.AxesSubplot at 0x9ccc160>"
      ]
     },
     "execution_count": 15,
     "metadata": {},
     "output_type": "execute_result"
    },
    {
     "data": {
      "image/png": "[encoded data removed]",
      "text/plain": [
       "<Figure size 432x288 with 1 Axes>"
      ]
     },
     "metadata": {},
     "output_type": "display_data"
    }
   ],
   "source": [
    "pi_ts.view['timeSeries'][0]['events'].plot()"
   ]
  },
  {
   "cell_type": "code",
   "execution_count": 16,
   "metadata": {},
   "outputs": [
    {
     "name": "stdout",
     "output_type": "stream",
     "text": [
      "{\n",
      "    \"geoDatum\": \"WGS 1984\",\n",
      "    \"timeSeries\": [\n",
      "        {\n",
      "            \"comment\": \"this is an comment\",\n",
      "            \"events\": [\n",
      "                {\n",
      "                    \"date\": \"2018-01-01\",\n",
      "                    \"flag\": 16,\n",
      "                    \"time\": \"00:00:00\",\n",
      "                    \"value\": 95\n",
      "                },\n",
      "                {\n",
      "                    \"date\": \"2018-01-02\",\n",
      "                    \"flag\": 4,\n",
      "                    \"time\": \"00:00:00\",\n",
      "                    \"value\": 18\n",
      "                },\n",
      "                {\n",
      "                    \"date\": \"2018-01-03\",\n",
      "                    \"flag\": 21,\n",
      "                    \"time\": \"00:00:00\",\n",
      "                    \"value\": 93\n",
      "                },\n",
      "                {\n",
      "                    \"date\": \"2018-01-04\",\n",
      "                    \"flag\": 88,\n",
      "                    \"time\": \"00:00:00\",\n",
      "                    \"value\": 71\n",
      "                },\n",
      "                {\n",
      "                    \"date\": \"2018-01-05\",\n",
      "                    \"flag\": 23,\n",
      "                    \"time\": \"00:00:00\",\n",
      "                    \"value\": 47\n",
      "                }\n",
      "            ],\n",
      "            \"header\": {\n",
      "                \"endDate\": {\n",
      "                    \"date\": \"2018-01-05\",\n",
      "                    \"time\": \"00:00:00\"\n",
      "                },\n",
      "                \"locationId\": \"my_little_locationID\",\n",
      "                \"longName\": \"my_longname_locationID\",\n",
      "                \"missVal\": NaN,\n",
      "                \"moduleInstanceId\": \"my_little_moduleinstanceID\",\n",
      "                \"parameterId\": \"my_little_parameterID\",\n",
      "                \"startDate\": {\n",
      "                    \"date\": \"2018-01-01\",\n",
      "                    \"time\": \"00:00:00\"\n",
      "                },\n",
      "                \"timeStep\": {\n",
      "                    \"divider\": 1,\n",
      "                    \"multiplier\": 1,\n",
      "                    \"unit\": \"day\"\n",
      "                },\n",
      "                \"type\": \"instantaneous\",\n",
      "                \"units\": \"m/3\"\n",
      "            }\n",
      "        }\n",
      "    ],\n",
      "    \"timeZone\": \"gmt\",\n",
      "    \"version\": \"1.22\"\n",
      "}\n"
     ]
    }
   ],
   "source": [
    "# show resulted PI-JSON object\n",
    "print(pi_ts.to.pi_json())"
   ]
  },
  {
   "cell_type": "code",
   "execution_count": 17,
   "metadata": {},
   "outputs": [
    {
     "name": "stdout",
     "output_type": "stream",
     "text": [
      "<?xml version=\"1.0\" ?>\n",
      "<TimeSeries version=\"1.22\" xmlns=\"http://www.wldelft.nl/fews/PI\" xmlns:xsi=\"http://www.w3.org/2001/XMLSchema-instance\" xsi:schemaLocation=\"http://www.wldelft.nl/fews/PI http://fews.wldelft.nl/schemas/version1.0/pi-schemas/pi_timeseries.xsd\">\n",
      "  <timeZone>gmt</timeZone>\n",
      "  <geoDatum>WGS 1984</geoDatum>\n",
      "  <series>\n",
      "    <comment>this is an comment</comment>\n",
      "    <header>\n",
      "      <type>instantaneous</type>\n",
      "      <moduleInstanceId>my_little_moduleinstanceID</moduleInstanceId>\n",
      "      <locationId>my_little_locationID</locationId>\n",
      "      <parameterId>my_little_parameterID</parameterId>\n",
      "      <timeStep date=\"day\" divider=\"1\"/>\n",
      "      <startDate date=\"2018-01-01\" time=\"00:00:00\"/>\n",
      "      <endDate date=\"2018-01-05\" time=\"00:00:00\"/>\n",
      "      <missVal>nan</missVal>\n",
      "      <longName>my_longname_locationID</longName>\n",
      "      <units>m/3</units>\n",
      "    </header>\n",
      "    <properties/>\n",
      "    <events date=\"2018-01-01\" flag=\"16\" time=\"00:00:00\" value=\"95\"/>\n",
      "    <events date=\"2018-01-02\" flag=\"4\" time=\"00:00:00\" value=\"18\"/>\n",
      "    <events date=\"2018-01-03\" flag=\"21\" time=\"00:00:00\" value=\"93\"/>\n",
      "    <events date=\"2018-01-04\" flag=\"88\" time=\"00:00:00\" value=\"71\"/>\n",
      "    <events date=\"2018-01-05\" flag=\"23\" time=\"00:00:00\" value=\"47\"/>\n",
      "  </series>\n",
      "</TimeSeries>\n",
      "\n"
     ]
    }
   ],
   "source": [
    "# show resulted PI-XML object\n",
    "print(pi_ts.to.pi_xml())"
   ]
  }
 ],
 "metadata": {
  "kernelspec": {
   "display_name": "Python 3",
   "language": "python",
   "name": "python3"
  },
  "language_info": {
   "codemirror_mode": {
    "name": "ipython",
    "version": 3
   },
   "file_extension": ".py",
   "mimetype": "text/x-python",
   "name": "python",
   "nbconvert_exporter": "python",
   "pygments_lexer": "ipython3",
   "version": "3.6.5"
  }
 },
 "nbformat": 4,
 "nbformat_minor": 2
}
