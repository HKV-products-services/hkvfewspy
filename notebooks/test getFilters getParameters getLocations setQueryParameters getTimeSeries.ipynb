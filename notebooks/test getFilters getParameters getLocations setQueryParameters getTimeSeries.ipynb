{
 "cells": [
  {
   "cell_type": "code",
   "execution_count": 1,
   "metadata": {},
   "outputs": [],
   "source": [
    "import hkvfewspy as hkv\n",
    "from datetime import datetime\n",
    "%matplotlib inline"
   ]
  },
  {
   "cell_type": "code",
   "execution_count": 2,
   "metadata": {},
   "outputs": [
    {
     "data": {
      "text/plain": [
       "'0.5.9'"
      ]
     },
     "execution_count": 2,
     "metadata": {},
     "output_type": "execute_result"
    }
   ],
   "source": [
    "hkv.__version__"
   ]
  },
  {
   "cell_type": "code",
   "execution_count": 3,
   "metadata": {},
   "outputs": [],
   "source": [
    "# set client\n",
    "pi = hkv.pi\n",
    "pi.setClient(wsdl='http://localhost:8081/FewsPiService/fewspiservice?wsdl') "
   ]
  },
  {
   "cell_type": "code",
   "execution_count": 4,
   "metadata": {},
   "outputs": [
    {
     "data": {
      "text/plain": [
       "{'id': 'f_trend.1', 'name': 'Cut-data', 'description': ''}"
      ]
     },
     "execution_count": 4,
     "metadata": {},
     "output_type": "execute_result"
    }
   ],
   "source": [
    "# get filters\n",
    "filters = pi.getFilters()\n",
    "filters.f_trend_1"
   ]
  },
  {
   "cell_type": "code",
   "execution_count": 5,
   "metadata": {},
   "outputs": [
    {
     "data": {
      "text/plain": [
       "'m3.minDepth.cut'"
      ]
     },
     "execution_count": 5,
     "metadata": {},
     "output_type": "execute_result"
    }
   ],
   "source": [
    "# get parameters\n",
    "parameters = pi.getParameters(filters.f_trend_1['id'])\n",
    "parameters.m3_minDepth_cut['id']"
   ]
  },
  {
   "cell_type": "code",
   "execution_count": 6,
   "metadata": {},
   "outputs": [
    {
     "data": {
      "text/plain": [
       "<matplotlib.axes._subplots.AxesSubplot at 0x9b8bb38>"
      ]
     },
     "execution_count": 6,
     "metadata": {},
     "output_type": "execute_result"
    },
    {
     "data": {
      "image/png": "[encoded data removed]",
      "text/plain": [
       "<Figure size 432x288 with 1 Axes>"
      ]
     },
     "metadata": {},
     "output_type": "display_data"
    }
   ],
   "source": [
    "# get locations\n",
    "locations = pi.getLocations(setFormat='gdf')\n",
    "locations.plot()"
   ]
  },
  {
   "cell_type": "code",
   "execution_count": 7,
   "metadata": {},
   "outputs": [
    {
     "data": {
      "text/plain": [
       "['bv.1.7.2.3.2', 'bv.1.7.1.3.1', 'bv.1.7.3.1.1']"
      ]
     },
     "execution_count": 7,
     "metadata": {},
     "output_type": "execute_result"
    }
   ],
   "source": [
    "locations.locationId.iloc[0:3].tolist()"
   ]
  },
  {
   "cell_type": "code",
   "execution_count": 8,
   "metadata": {},
   "outputs": [],
   "source": [
    "query = pi.setQueryParameters(prefill_defaults=True)"
   ]
  },
  {
   "cell_type": "code",
   "execution_count": 9,
   "metadata": {},
   "outputs": [],
   "source": [
    "query.parameterIds(['m3.minDepth.cut'])\n",
    "query.moduleInstanceIds(['pr.minDepth.cutfill.volopp.setfill'])\n",
    "query.locationIds(['bv.1.7.2.3.2'])\n",
    "query.startTime(datetime(2018,1,1))\n",
    "query.endTime(datetime(2018,7,1))\n",
    "query.clientTimeZone('Europe/Amsterdam')"
   ]
  },
  {
   "cell_type": "code",
   "execution_count": 10,
   "metadata": {},
   "outputs": [
    {
     "data": {
      "text/plain": [
       "{'convertDatum': False,\n",
       " 'forecastSearchCount': 0,\n",
       " 'importFromExternalDataSource': False,\n",
       " 'omitMissing': False,\n",
       " 'onlyHeaders': False,\n",
       " 'showEnsembleMemberIds': False,\n",
       " 'showStatistics': False,\n",
       " 'showThresholds': False,\n",
       " 'useDisplayUnits': True,\n",
       " 'version': '1.22',\n",
       " 'parameterIds': ['m3.minDepth.cut'],\n",
       " 'moduleInstanceIds': ['pr.minDepth.cutfill.volopp.setfill'],\n",
       " 'locationIds': ['bv.1.7.2.3.2'],\n",
       " 'startTime': datetime.datetime(2018, 1, 1, 0, 0),\n",
       " 'endTime': datetime.datetime(2018, 7, 1, 0, 0),\n",
       " 'clientTimeZone': 'Europe/Amsterdam'}"
      ]
     },
     "execution_count": 10,
     "metadata": {},
     "output_type": "execute_result"
    }
   ],
   "source": [
    "query.query"
   ]
  },
  {
   "cell_type": "code",
   "execution_count": 11,
   "metadata": {},
   "outputs": [],
   "source": [
    "df = pi.getTimeSeries(queryParameters=query, setFormat='df')"
   ]
  },
  {
   "cell_type": "code",
   "execution_count": 12,
   "metadata": {},
   "outputs": [
    {
     "data": {
      "text/plain": [
       "<matplotlib.axes._subplots.AxesSubplot at 0x9f4b5c0>"
      ]
     },
     "execution_count": 12,
     "metadata": {},
     "output_type": "execute_result"
    },
    {
     "data": {
      "image/png": "[encoded data removed]",
      "text/plain": [
       "<Figure size 432x288 with 1 Axes>"
      ]
     },
     "metadata": {},
     "output_type": "display_data"
    }
   ],
   "source": [
    "df.plot()"
   ]
  },
  {
   "cell_type": "code",
   "execution_count": 13,
   "metadata": {},
   "outputs": [
    {
     "data": {
      "text/html": [
       "<div>\n",
       "<style scoped>\n",
       "    .dataframe tbody tr th:only-of-type {\n",
       "        vertical-align: middle;\n",
       "    }\n",
       "\n",
       "    .dataframe tbody tr th {\n",
       "        vertical-align: top;\n",
       "    }\n",
       "\n",
       "    .dataframe thead th {\n",
       "        text-align: right;\n",
       "    }\n",
       "</style>\n",
       "<table border=\"1\" class=\"dataframe\">\n",
       "  <thead>\n",
       "    <tr style=\"text-align: right;\">\n",
       "      <th></th>\n",
       "      <th></th>\n",
       "      <th></th>\n",
       "      <th></th>\n",
       "      <th></th>\n",
       "      <th></th>\n",
       "      <th></th>\n",
       "      <th>flag</th>\n",
       "      <th>value</th>\n",
       "    </tr>\n",
       "    <tr>\n",
       "      <th>date</th>\n",
       "      <th>moduleInstanceId</th>\n",
       "      <th>qualifierId</th>\n",
       "      <th>parameterId</th>\n",
       "      <th>units</th>\n",
       "      <th>locationId</th>\n",
       "      <th>stationName</th>\n",
       "      <th></th>\n",
       "      <th></th>\n",
       "    </tr>\n",
       "  </thead>\n",
       "  <tbody>\n",
       "    <tr>\n",
       "      <th>2018-01-01 00:00:00+01:00</th>\n",
       "      <th>pr.minDepth.cutfill.volopp.setfill</th>\n",
       "      <th>q.all</th>\n",
       "      <th>m3.minDepth.cut</th>\n",
       "      <th>m3</th>\n",
       "      <th>bv.1.7.2.3.2</th>\n",
       "      <th>Blauwe Slenk</th>\n",
       "      <td>0.0</td>\n",
       "      <td>23956.96</td>\n",
       "    </tr>\n",
       "    <tr>\n",
       "      <th>2018-01-02 00:00:00+01:00</th>\n",
       "      <th>pr.minDepth.cutfill.volopp.setfill</th>\n",
       "      <th>q.all</th>\n",
       "      <th>m3.minDepth.cut</th>\n",
       "      <th>m3</th>\n",
       "      <th>bv.1.7.2.3.2</th>\n",
       "      <th>Blauwe Slenk</th>\n",
       "      <td>0.0</td>\n",
       "      <td>0.00</td>\n",
       "    </tr>\n",
       "    <tr>\n",
       "      <th>2018-01-03 00:00:00+01:00</th>\n",
       "      <th>pr.minDepth.cutfill.volopp.setfill</th>\n",
       "      <th>q.all</th>\n",
       "      <th>m3.minDepth.cut</th>\n",
       "      <th>m3</th>\n",
       "      <th>bv.1.7.2.3.2</th>\n",
       "      <th>Blauwe Slenk</th>\n",
       "      <td>0.0</td>\n",
       "      <td>0.00</td>\n",
       "    </tr>\n",
       "    <tr>\n",
       "      <th>2018-01-04 00:00:00+01:00</th>\n",
       "      <th>pr.minDepth.cutfill.volopp.setfill</th>\n",
       "      <th>q.all</th>\n",
       "      <th>m3.minDepth.cut</th>\n",
       "      <th>m3</th>\n",
       "      <th>bv.1.7.2.3.2</th>\n",
       "      <th>Blauwe Slenk</th>\n",
       "      <td>0.0</td>\n",
       "      <td>0.00</td>\n",
       "    </tr>\n",
       "    <tr>\n",
       "      <th>2018-01-05 00:00:00+01:00</th>\n",
       "      <th>pr.minDepth.cutfill.volopp.setfill</th>\n",
       "      <th>q.all</th>\n",
       "      <th>m3.minDepth.cut</th>\n",
       "      <th>m3</th>\n",
       "      <th>bv.1.7.2.3.2</th>\n",
       "      <th>Blauwe Slenk</th>\n",
       "      <td>0.0</td>\n",
       "      <td>0.00</td>\n",
       "    </tr>\n",
       "  </tbody>\n",
       "</table>\n",
       "</div>"
      ],
      "text/plain": [
       "                                                                                                                          flag  \\\n",
       "date                      moduleInstanceId                   qualifierId parameterId     units locationId   stationName          \n",
       "2018-01-01 00:00:00+01:00 pr.minDepth.cutfill.volopp.setfill q.all       m3.minDepth.cut m3    bv.1.7.2.3.2 Blauwe Slenk   0.0   \n",
       "2018-01-02 00:00:00+01:00 pr.minDepth.cutfill.volopp.setfill q.all       m3.minDepth.cut m3    bv.1.7.2.3.2 Blauwe Slenk   0.0   \n",
       "2018-01-03 00:00:00+01:00 pr.minDepth.cutfill.volopp.setfill q.all       m3.minDepth.cut m3    bv.1.7.2.3.2 Blauwe Slenk   0.0   \n",
       "2018-01-04 00:00:00+01:00 pr.minDepth.cutfill.volopp.setfill q.all       m3.minDepth.cut m3    bv.1.7.2.3.2 Blauwe Slenk   0.0   \n",
       "2018-01-05 00:00:00+01:00 pr.minDepth.cutfill.volopp.setfill q.all       m3.minDepth.cut m3    bv.1.7.2.3.2 Blauwe Slenk   0.0   \n",
       "\n",
       "                                                                                                                             value  \n",
       "date                      moduleInstanceId                   qualifierId parameterId     units locationId   stationName             \n",
       "2018-01-01 00:00:00+01:00 pr.minDepth.cutfill.volopp.setfill q.all       m3.minDepth.cut m3    bv.1.7.2.3.2 Blauwe Slenk  23956.96  \n",
       "2018-01-02 00:00:00+01:00 pr.minDepth.cutfill.volopp.setfill q.all       m3.minDepth.cut m3    bv.1.7.2.3.2 Blauwe Slenk      0.00  \n",
       "2018-01-03 00:00:00+01:00 pr.minDepth.cutfill.volopp.setfill q.all       m3.minDepth.cut m3    bv.1.7.2.3.2 Blauwe Slenk      0.00  \n",
       "2018-01-04 00:00:00+01:00 pr.minDepth.cutfill.volopp.setfill q.all       m3.minDepth.cut m3    bv.1.7.2.3.2 Blauwe Slenk      0.00  \n",
       "2018-01-05 00:00:00+01:00 pr.minDepth.cutfill.volopp.setfill q.all       m3.minDepth.cut m3    bv.1.7.2.3.2 Blauwe Slenk      0.00  "
      ]
     },
     "execution_count": 13,
     "metadata": {},
     "output_type": "execute_result"
    }
   ],
   "source": [
    "df.head()"
   ]
  },
  {
   "cell_type": "code",
   "execution_count": null,
   "metadata": {},
   "outputs": [],
   "source": []
  }
 ],
 "metadata": {
  "kernelspec": {
   "display_name": "Python 3",
   "language": "python",
   "name": "python3"
  },
  "language_info": {
   "codemirror_mode": {
    "name": "ipython",
    "version": 3
   },
   "file_extension": ".py",
   "mimetype": "text/x-python",
   "name": "python",
   "nbconvert_exporter": "python",
   "pygments_lexer": "ipython3",
   "version": "3.6.5"
  }
 },
 "nbformat": 4,
 "nbformat_minor": 2
}
